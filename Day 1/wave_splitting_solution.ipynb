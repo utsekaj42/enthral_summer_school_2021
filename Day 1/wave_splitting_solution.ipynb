{
 "cells": [
  {
   "cell_type": "code",
   "execution_count": null,
   "id": "soviet-damages",
   "metadata": {},
   "outputs": [],
   "source": [
    "%matplotlib notebook\n",
    "%load_ext autoreload\n",
    "%autoreload 2"
   ]
  },
  {
   "cell_type": "code",
   "execution_count": null,
   "id": "informed-denmark",
   "metadata": {},
   "outputs": [],
   "source": [
    "\n",
    "#!/usr/bin/env python\n",
    "## Import\n",
    "import numpy as np\n",
    "import scipy as sp\n",
    "import pandas as pd\n",
    "import matplotlib.pyplot as plt"
   ]
  },
  {
   "cell_type": "markdown",
   "id": "interpreted-variable",
   "metadata": {},
   "source": [
    "# Loading the data"
   ]
  },
  {
   "cell_type": "code",
   "execution_count": null,
   "id": "designed-sword",
   "metadata": {
    "scrolled": true
   },
   "outputs": [],
   "source": [
    "# The csv files in data are organized in columns\n",
    "# t, P, Q, A with seperator ';'\n",
    "data_file = 'data/bifurcation_F_5.csv'\n",
    "data = np.genfromtxt(data_file, delimiter=';', skip_header=1)\n",
    "t = data[:,0]\n",
    "P = data[:,1]\n",
    "Q = data[:,2]\n",
    "\n",
    "# An alternative is Pandas which allows access by column name, though the \n",
    "# units are a bit annoying here. It can be good for more advanced data wrangling.\n",
    "pd.read_csv(data_file, sep=';') # For your future usage"
   ]
  },
  {
   "cell_type": "markdown",
   "id": "major-sellers",
   "metadata": {},
   "source": [
    "# Basic plotting"
   ]
  },
  {
   "cell_type": "code",
   "execution_count": null,
   "id": "confident-indianapolis",
   "metadata": {},
   "outputs": [],
   "source": [
    "plt.plot(t, P, label='data') # add a label for the legend\n",
    "plt.xlabel('time')\n",
    "plt.ylabel('Pressure')\n",
    "plt.legend() # Make the legend appear\n",
    "\n",
    "Zc=1022602.00367211\n",
    "P = P - np.min(P)\n",
    "Pf = (P + Zc*Q)/2\n",
    "Qf = (P*Zc + Q)/2\n",
    "\n",
    "Pb = (P - Zc*Q)/2\n",
    "Qb = (Q - P*Zc)/2\n",
    "\n",
    "plt.plot(t, Pf)\n",
    "plt.plot(t, Pb)\n",
    "plt.xlabel('time')\n",
    "plt.ylabel('Pressure')\n",
    "plt.legend() # Make the legend appear\n",
    "\n",
    "print(\"Gamma\", np.max(Pb)/np.max(Pf))"
   ]
  },
  {
   "cell_type": "markdown",
   "id": "tender-wiring",
   "metadata": {},
   "source": [
    "# Bifurcation with clearly seperated waves\n",
    "You may assume this artery has a characteristic impedance $Z_c=1022602.00367211$. How does this compare with what you could estimate from the \"rising slope\" of the waves? $Z_c \\approx \\Delta P/\\Delta Q$ in early systole?"
   ]
  },
  {
   "cell_type": "code",
   "execution_count": null,
   "id": "formed-rental",
   "metadata": {},
   "outputs": [],
   "source": [
    "data_file = 'data/bifurcation_F_5.csv'"
   ]
  },
  {
   "cell_type": "markdown",
   "id": "finite-mathematics",
   "metadata": {},
   "source": [
    "# Bifurcation with mixed  waves\n",
    "You may assume this artery has a characteristic impedance $Z_c=1022602.00367211$. How does this compare with what you could estimate from the \"rising slope\" of the waves? $Z_c \\approx \\Delta P/\\Delta Q$ in early systole?"
   ]
  },
  {
   "cell_type": "code",
   "execution_count": null,
   "id": "accessible-testament",
   "metadata": {},
   "outputs": [],
   "source": [
    "data_file = 'data/bifurcation_F_1-5.csv'"
   ]
  },
  {
   "cell_type": "markdown",
   "id": "saving-stupid",
   "metadata": {},
   "source": [
    "# Full network with compliant arteries\n",
    "You may assume this person has a characteristic impedance $Z_c=6591781.70212634$. How does this compare with what you could estimate from the \"rising slope\" of the waves? $Z_c \\approx \\Delta P/\\Delta Q$ in early systole?"
   ]
  },
  {
   "cell_type": "code",
   "execution_count": null,
   "id": "general-ghana",
   "metadata": {},
   "outputs": [],
   "source": [
    "data_file = 'data/55arteryNetwork_age19.csv'"
   ]
  },
  {
   "cell_type": "markdown",
   "id": "flush-thesis",
   "metadata": {},
   "source": [
    "# Full network with stiff arteries\n",
    "You may assume this person has a characteristic impedance $Z_c=10755188.41381322$. How does this compare with what you could estimate from the \"rising slope\" of the waves? $Z_c \\approx \\Delta P/\\Delta Q$ in early systole?"
   ]
  },
  {
   "cell_type": "code",
   "execution_count": null,
   "id": "ideal-anime",
   "metadata": {},
   "outputs": [],
   "source": [
    "data_file = 'data/55arteryNetwork_age75.csv'"
   ]
  }
 ],
 "metadata": {
  "kernelspec": {
   "display_name": "Python [conda env:def]",
   "language": "python",
   "name": "conda-env-def-py"
  },
  "language_info": {
   "codemirror_mode": {
    "name": "ipython",
    "version": 3
   },
   "file_extension": ".py",
   "mimetype": "text/x-python",
   "name": "python",
   "nbconvert_exporter": "python",
   "pygments_lexer": "ipython3",
   "version": "3.6.10"
  }
 },
 "nbformat": 4,
 "nbformat_minor": 5
}
