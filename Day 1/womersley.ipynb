{
 "cells": [
  {
   "cell_type": "code",
   "execution_count": 1,
   "metadata": {},
   "outputs": [],
   "source": [
    "%matplotlib notebook\n",
    "%load_ext autoreload\n",
    "%autoreload 2"
   ]
  },
  {
   "cell_type": "markdown",
   "metadata": {},
   "source": [
    "Velocity profiles for pulsating flow in straight pipes can be derived from the momentum equation for fully developed flow by using Bessel functions. The momentum equation for fully developed flow on dimensionless form states (see lecture notes for details):\n",
    "\n",
    "\\begin{equation} \n",
    "\\alpha^2 \\frac{\\partial v}{\\partial t} = - \\frac{\\partial p}{\\partial z} + \\frac{1}{r}\\frac{\\partial}{\\partial r} \\left( r \\frac{\\partial v}{\\partial r} \\right)\n",
    "\\end{equation}\n",
    "We wish to look at velocity profiles in the frequency and time domain. The momentum equation above is linear in $v$ so superposition of harmonics is OK. We introduce the following expressions, representing the pulsatile behaviour of the flow:\n",
    "\n",
    "\\begin{align}\n",
    "\\text{Driving force:}&\\quad \\frac{\\partial p}{\\partial z} = \\frac{\\partial \\hat{p}}{\\partial z}e^{i\\omega t} \\nonumber\\\\\n",
    "\\text{Velocity:}&\\quad v = \\hat{v} e^{i\\omega t} \\nonumber\n",
    "\\end{align}\n",
    "\n",
    "By substitution into the momentum equation, as represented in Equation (\\ref{eq:mom}), we obtain:\n",
    "\n",
    "\\begin{equation} \n",
    "\\label{eq:mom2}\n",
    "i \\omega \\alpha^2 \\hat{v}(r) = -\\frac{\\partial \\hat{p}}{\\partial z} +\\frac{1}{r}\\frac{\\partial}{\\partial r}\\left(r \\frac{\\partial \\hat{v}}{\\partial r} \\right)\n",
    "\\end{equation}\n",
    "\n",
    "Furthermore, the Bessel equation for $n=0$ is obtained if we substitute $s=i^{2/3}\\alpha r$ into Equation (\\ref{eq:mom2}). This is then rearranged as follows:\n",
    "\n",
    "\\begin{equation}\n",
    "\\frac{\\partial^2 \\hat{v}}{\\partial s^2}+\\frac{1}{s}\\frac{\\partial \\hat{v}}{\\partial s} + \\left( 1- \\frac{n^2}{s^2}\\right)v = \\frac{i}{\\rho \\omega} \\frac{\\partial \\hat{p}}{\\partial z}\n",
    "\\end{equation}\n",
    "\n",
    "The solution can be expressed with Bessel functions $J_0(r)$:\n",
    "\n",
    "\\begin{equation}\n",
    "\\hat{v}(r) = \\frac{i}{\\rho \\omega} \\frac{\\partial \\hat{p}}{\\partial z} \\left( 1 - \\frac{J_0(i^{3/2}\\alpha r/a)}{J_0(i^{3/2}\\alpha)} \\right)\n",
    "\\end{equation}\n",
    "From this we find the Womersley profiles for straight pipe flow by reintroducing $v=\\hat{v}e^{i\\omega t}$:\n",
    "\n",
    "\\begin{equation} \n",
    "\\label{eq:womersley}\n",
    "v(r,t) = Re \\left[ \\frac{i}{\\rho \\omega} \\frac{\\partial \\hat{p}}{\\partial z} e^{i \\omega t} \\left( 1 - \\frac{J_0(i^{3/2}\\alpha r/a)}{J_0(i^{3/2}\\alpha)} \\right) \\right]\n",
    "\\end{equation}\n",
    "\n",
    "\n",
    "# Exercise a)\n",
    "Calculate Womersley velocity profiles from Equation (\\ref{eq:womersley}) by using the built-in \n",
    "\n",
    "# Exercise b)\n",
    "Describe the phase of the velocity and the pressure gradient for different Womersley numbers. How does this compare for large (20) and small (2) Womersley numbers?\n",
    "\n",
    "# Exercise c)\n",
    "Based only on the velocity profiles you have plotted how does the wall shear stress, $\\tau_w = -\\mu \\frac{\\partial v}{\\partial r} \\vert_a$, change with increasing Womersley number?\n",
    "\n",
    "# Exercise d)\n",
    "Using the fact that $\\frac{\\partial J_0(s)}{\\partial s} = -J_1(s)$ derive an expression for $\\tau_w$ as a function of the Womersley number $\\alpha$. Plot $\\tau_w$ vs $\\alpha$ for a fixed radius $a$.\n",
    "function `scipy.special.jn(nu,Z)`. Then plot Womersley velocity profiles for different time levels and Womersley numbers, to illustrate the pulsatile behaviour of the flow and the influence of the Womersley number. \n"
   ]
  },
  {
   "cell_type": "code",
   "execution_count": 4,
   "metadata": {},
   "outputs": [],
   "source": [
    "\n",
    "#!/usr/bin/env python\n",
    "## Import\n",
    "import numpy as np\n",
    "import scipy as sp\n",
    "import scipy.special \n",
    "import matplotlib.pyplot as plt"
   ]
  },
  {
   "cell_type": "code",
   "execution_count": 2,
   "metadata": {
    "scrolled": false
   },
   "outputs": [
    {
     "ename": "SyntaxError",
     "evalue": "invalid syntax (<ipython-input-2-89acb891518d>, line 39)",
     "output_type": "error",
     "traceback": [
      "\u001b[0;36m  File \u001b[0;32m\"<ipython-input-2-89acb891518d>\"\u001b[0;36m, line \u001b[0;32m39\u001b[0m\n\u001b[0;31m    v2[i,:] =\u001b[0m\n\u001b[0m              ^\u001b[0m\n\u001b[0;31mSyntaxError\u001b[0m\u001b[0;31m:\u001b[0m invalid syntax\n"
     ]
    }
   ],
   "source": [
    "##--------------------- VARIABLES/CONSTANTS -------------------------#\n",
    "a=0.5e-2\n",
    "mu=1.05e-3\n",
    "T=1\n",
    "f=1/T\n",
    "w=2*np.pi*f\n",
    "rho=1e3\n",
    "\n",
    "Ns = 100                      #-Radial resolution\n",
    "Nt = 200                      #-Number of time levels\n",
    "Np = 1                        #-Number of periods\n",
    "Tmin=0.0  \n",
    "Tmax=Np*T\n",
    "r = np.linspace(0,a,Ns)          #-Make radial vector r\n",
    "t = np.linspace(Tmin,Tmax,Nt)    #-Make time vector t\n",
    "alpha = np.sqrt(rho*w/mu)*a      #-Womersley number\n",
    "p0=1.0\n",
    "dp = p0*np.exp(1j*w*t)           #-Make a time varying complex pressure \n",
    "                                 # vector dp/dz(w,t), use a constant \n",
    "                                 # amplitude p0=1.0\n",
    "\n",
    "##                                \n",
    "#------ CALCULATE WOMERSLEY PROFILES WITH BESSEL FUNCTIONS ----------#\n",
    "v2 = np.empty((Nt,Ns))\n",
    "tau2 = np.empty((Nt,))\n",
    "v5 = np.empty((Nt,Ns))\n",
    "tau5 = np.empty((Nt,))\n",
    "v10 = np.empty((Nt,Ns))\n",
    "tau10 = np.empty((Nt,))\n",
    "v20 = np.empty((Nt,Ns))\n",
    "tau20 = np.empty((Nt,))\n",
    "for i in range(Nt):\n",
    "#v(i,:)=...#                    #-Use the built in scipy function\n",
    "                                # sp.special.jn(nu,Z) to calculate the Bessel\n",
    "                                # functions needed to find an expression \n",
    "                                # for the velocity vector v(i,:) as a \n",
    "                                # function of the pressure function p(i). \n",
    "    alpha=2\n",
    "    v2[i,:] = np.nan #... "
   ]
  }
 ],
 "metadata": {
  "kernelspec": {
   "display_name": "Python 3",
   "language": "python",
   "name": "python3"
  },
  "language_info": {
   "codemirror_mode": {
    "name": "ipython",
    "version": 3
   },
   "file_extension": ".py",
   "mimetype": "text/x-python",
   "name": "python",
   "nbconvert_exporter": "python",
   "pygments_lexer": "ipython3",
   "version": "3.7.4"
  }
 },
 "nbformat": 4,
 "nbformat_minor": 2
}
