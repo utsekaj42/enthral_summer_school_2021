{
 "cells": [
  {
   "cell_type": "markdown",
   "id": "ee914865",
   "metadata": {
    "editable": true
   },
   "source": [
    "<!-- HTML file automatically generated from DocOnce source (https://github.com/doconce/doconce/)\n",
    "doconce format html chaospy_tut.do.txt --ipynb_admon=hrule --without_solutions --no_abort -->\n",
    "<!-- dom:TITLE: A tutorial on chaospy -->"
   ]
  },
  {
   "cell_type": "markdown",
   "id": "69a7637a",
   "metadata": {
    "editable": true
   },
   "source": [
    "# A tutorial on chaospy\n",
    "**Leif Rune Hellevik**, Department of Structural Engineering, NTNU\n",
    "\n",
    "Date: **Jun 30, 2021**"
   ]
  },
  {
   "cell_type": "code",
   "execution_count": 1,
   "id": "21b66811",
   "metadata": {
    "collapsed": false,
    "editable": true
   },
   "outputs": [],
   "source": [
    "# ipython magic\n",
    "%matplotlib notebook\n",
    "%load_ext autoreload\n",
    "%autoreload 2"
   ]
  },
  {
   "cell_type": "code",
   "execution_count": 2,
   "id": "47cd17b9",
   "metadata": {
    "collapsed": false,
    "editable": true
   },
   "outputs": [],
   "source": [
    "",
    "\n",
    "import matplotlib\n",
    "import matplotlib.pyplot as plt"
   ]
  },
  {
   "cell_type": "markdown",
   "id": "f3f2d081",
   "metadata": {
    "editable": true
   },
   "source": [
    "# The chaospy module\n",
    "\n",
    "How to import the chaospy module"
   ]
  },
  {
   "cell_type": "code",
   "execution_count": 3,
   "id": "db27e008",
   "metadata": {
    "collapsed": false,
    "editable": true
   },
   "outputs": [],
   "source": [
    "import chaospy as pc"
   ]
  },
  {
   "cell_type": "markdown",
   "id": "86a2a150",
   "metadata": {
    "editable": true
   },
   "source": [
    "For convenience we use a very simple model (which may be replaced by\n",
    "your deterministic model or PDE-solver), namely an exponential decay\n",
    "function $y(t)$ with two parameters stored in the numpy array 'x':"
   ]
  },
  {
   "cell_type": "markdown",
   "id": "b78d5c92",
   "metadata": {
    "editable": true
   },
   "source": [
    "$$\n",
    "\\begin{equation}\n",
    "y(t) = x_0 \\, e^{-x_1 t}\n",
    "\n",
    "\\end{equation}\n",
    "$$"
   ]
  },
  {
   "cell_type": "markdown",
   "id": "a8209340",
   "metadata": {
    "editable": true
   },
   "source": [
    "which may be implemented in python as:"
   ]
  },
  {
   "cell_type": "code",
   "execution_count": 4,
   "id": "5c6d6525",
   "metadata": {
    "collapsed": false,
    "editable": true
   },
   "outputs": [],
   "source": [
    "def model_solver(t, x):\n",
    "    # Simple emulator of a PDE solver \n",
    "    return x[0] * e**(-t*x[1])"
   ]
  },
  {
   "cell_type": "markdown",
   "id": "fb2cb6fd",
   "metadata": {
    "editable": true
   },
   "source": [
    "and may be plotted by:"
   ]
  },
  {
   "cell_type": "code",
   "execution_count": 5,
   "id": "36255aaa",
   "metadata": {
    "collapsed": false,
    "editable": true
   },
   "outputs": [],
   "source": [
    "t=linspace(0, 2, 200)\n",
    "y = model_solver(t, [3,3]) \n",
    "plot(t,y)\n",
    "\n",
    "# Create propability density functions (pdf) for model parameters"
   ]
  },
  {
   "cell_type": "markdown",
   "id": "a0cbb7a6",
   "metadata": {
    "editable": true
   },
   "source": [
    "### How to create distributions for model parameters"
   ]
  },
  {
   "cell_type": "code",
   "execution_count": 6,
   "id": "752f15b4",
   "metadata": {
    "collapsed": false,
    "editable": true
   },
   "outputs": [],
   "source": [
    "pdf1 = pc.Uniform(0, 1)\n",
    "pdf2 = pc.Uniform(0, 1)\n",
    "jpdf = pc.J(pdf1, pdf2)"
   ]
  },
  {
   "cell_type": "markdown",
   "id": "33bddc36",
   "metadata": {
    "editable": true
   },
   "source": [
    "### Generate solutions of samples of model parameters"
   ]
  },
  {
   "cell_type": "code",
   "execution_count": 7,
   "id": "3feb6228",
   "metadata": {
    "collapsed": false,
    "editable": true
   },
   "outputs": [],
   "source": [
    "nr_samples=300\n",
    "X=jpdf.sample(nr_samples)\n",
    "Y=array([model_solver(t, x) for x in X.T ]) #solve for a given time t=0.5\n",
    "\n",
    "mu=mean(Y, 0)\n",
    "p05, p95 = percentile(Y, [5,95], 0)\n",
    "fill_between(t, p05, p95, alpha=0.5)\n",
    "plot(t, mu)"
   ]
  },
  {
   "cell_type": "markdown",
   "id": "2b1a5622",
   "metadata": {
    "editable": true
   },
   "source": [
    "### Generate statistics based on the sampled solutions  (Monte Carlo)"
   ]
  },
  {
   "cell_type": "code",
   "execution_count": 8,
   "id": "f9b68a96",
   "metadata": {
    "collapsed": false,
    "editable": true
   },
   "outputs": [],
   "source": [
    "nr_samples=400\n",
    "X=jpdf.sample(nr_samples)\n",
    "Y=array([model_solver(0.5, x) for x in X.T ]) #solve for a given time t=0.5\n",
    "nr_samples_list=arange(nr_samples)+1\n",
    "converge = cumsum(Y, 0)/nr_samples_list\n",
    "plot(nr_samples_list, converge)\n",
    "legstr=[]\n",
    "legstr.append('random')"
   ]
  },
  {
   "cell_type": "markdown",
   "id": "b6ac7362",
   "metadata": {
    "editable": true
   },
   "source": [
    "### Compare sampling schemes in the parameter space"
   ]
  },
  {
   "cell_type": "code",
   "execution_count": 9,
   "id": "1b82fdaa",
   "metadata": {
    "collapsed": false,
    "editable": true
   },
   "outputs": [],
   "source": [
    "# Various sampling schemes\n",
    "jpdf = pc.J(pc.Uniform(0,1), pc.Uniform(0,1))\n",
    "ax1=subplot(121)\n",
    "ax1.set_title('Random')\n",
    "X1 = jpdf.sample(nr_samples)\n",
    "scatter(*X1)\n",
    "ax2=subplot(122)\n",
    "X2 = jpdf.sample(nr_samples, \"S\")\n",
    "ax2.set_title('Structured')\n",
    "scatter(*X2)"
   ]
  },
  {
   "cell_type": "markdown",
   "id": "7437617a",
   "metadata": {
    "editable": true
   },
   "source": [
    "### Impact of sampling strategy on convergence of Monte Carlo simulations"
   ]
  },
  {
   "cell_type": "code",
   "execution_count": 10,
   "id": "91609ca6",
   "metadata": {
    "collapsed": false,
    "editable": true
   },
   "outputs": [],
   "source": [
    "# Effect of sampling on convergence of Monte Carlo simulations\n",
    "X = jpdf.sample(nr_samples, \"S\")\n",
    "Y = [model_solver(0.5, x) for x in X.T]\n",
    "converge_structured = cumsum(Y, 0)/nr_samples_list\n",
    "\n",
    "# Compare convergence for random and structured sampling\n",
    "plot(nr_samples_list, converge)\n",
    "plot(nr_samples_list, converge_structured, \"c\")\n",
    "legend(['random','structured'])"
   ]
  },
  {
   "cell_type": "markdown",
   "id": "98a8e329",
   "metadata": {
    "editable": true
   },
   "source": [
    "### Polynomial chaos expansions"
   ]
  },
  {
   "cell_type": "code",
   "execution_count": 11,
   "id": "1aad35cf",
   "metadata": {
    "collapsed": false,
    "editable": true
   },
   "outputs": [],
   "source": [
    "# Polychaos expansions\n",
    "poly = pc.generate_expansion(1, jpdf)\n",
    "X = jpdf.sample(10, \"S\")\n",
    "Y = [model_solver(0.5, x) for x in X.T]\n",
    "\n",
    "approx = pc.fit_regression(poly, X, Y, rule=\"T\")\n",
    "\n",
    "nr_poly_samples=np.arange(20,500,50)\n",
    "\n",
    "order = 3\n",
    "poly = pc.generate_expansion(order+1, jpdf)\n",
    "\n",
    "mu_values=[]\n",
    "\n",
    "for psample in nr_poly_samples:\n",
    "    X = jpdf.sample(psample, \"S\")\n",
    "    Y = [model_solver(0.5, x) for x in X.T]\n",
    "    approx = pc.fit_regression(poly, X, Y, rule=\"T\")\n",
    "    mu_values.append(pc.E(approx,jpdf))\n",
    "\n",
    "plot(nr_poly_samples,mu_values)"
   ]
  }
 ],
 "metadata": {},
 "nbformat": 4,
 "nbformat_minor": 5
}
