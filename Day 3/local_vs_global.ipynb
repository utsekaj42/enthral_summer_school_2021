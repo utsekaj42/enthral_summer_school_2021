{
 "cells": [
  {
   "cell_type": "markdown",
   "id": "8f97a988",
   "metadata": {
    "editable": true
   },
   "source": [
    "<!-- HTML file automatically generated from DocOnce source (https://github.com/doconce/doconce/)\n",
    "doconce format html local_vs_global.do.txt --ipynb_admon=hrule --without_solutions --no_abort -->"
   ]
  },
  {
   "cell_type": "markdown",
   "id": "f0c4a194",
   "metadata": {
    "editable": true
   },
   "source": [
    "# Local versus global sensitivity analysis\n",
    "\n",
    "Motivation and useful purposes of sensitivity analysis\n",
    "\n",
    " * Parameter prioritization of parameters of high sensitivity (importance)\n",
    "\n",
    " * Parameter fixation of parameters of low sensitivity (importance)\n",
    "\n",
    " * Reveal surprising relations/properties of the model\n",
    "\n",
    " * Indentify critical regions in the input parameter space"
   ]
  },
  {
   "cell_type": "markdown",
   "id": "4c2867f4",
   "metadata": {
    "editable": true
   },
   "source": [
    "## Local approaches based on derivatives\n",
    "\n",
    "Many sensitivity analyses found in the scientific literature are based\n",
    "on derivatives.  This fact has naturally a rational basis as the\n",
    "partial derivative $\\partial y/\\partial Z_i$ of a model predicion $y$\n",
    "with respect to an input $Z_i$, can be understood as the mathematical\n",
    "representation of the sensitivity of $y$ with respect to $Z_i$.\n",
    "\n",
    "Even though a local, partial derivative approach is computationally\n",
    "inexpensive it has in general limited usage for nonlinear models. The\n",
    "derivatives are linearizations of the model sensitivities around the\n",
    "point in the parameter space at which they are evaluated, and may only\n",
    "be extrapolated to provide information on the sensitivity in other\n",
    "regions of the parameter space in the case of a linear model.\n",
    "\n",
    "To illustrate the fraction of the parameter space one at maximum might\n",
    "explore with the local partial derivative approach (also called the\n",
    "one factor at the time (OAT) approach) we provide a code snippet which\n",
    "calculates the ratio of a [hypersphere](https://en.wikipedia.org/wiki/N-sphere#Recurrences) to a hypercube."
   ]
  },
  {
   "cell_type": "code",
   "execution_count": 1,
   "id": "f65b434f",
   "metadata": {
    "collapsed": false,
    "editable": true
   },
   "outputs": [],
   "source": [
    "# See https://en.wikipedia.org/wiki/N-sphere#Recurrences\n",
    "\n",
    "def hyperSphere_hyperCube_ratio(N):\n",
    "    Vsphere=[1]\n",
    "    Ssphere=[2]\n",
    "    Vcube=[1]\n",
    "    SphereCubeRatio=[]\n",
    "        \n",
    "    for n in range(0,N):\n",
    "        Ssphere.append(2*np.pi*Vsphere[n])\n",
    "        Vsphere.append(Ssphere[n]/(n+1))\n",
    "        Vcube.append(2**(n+1))\n",
    "        SphereCubeRatio.append(Vsphere[-1]/Vcube[-1])\n",
    "        \n",
    "    return SphereCubeRatio\n",
    "        \n",
    "Ndim=10\n",
    "plt.plot(hyperSphere_hyperCube_ratio(Ndim))\n",
    "_=plt.xlabel('Number of dimensions')\n",
    "_=plt.ylabel('Hypersphere to hypercube volume ratio')"
   ]
  },
  {
   "cell_type": "markdown",
   "id": "f39fb64f",
   "metadata": {
    "editable": true
   },
   "source": [
    "<!-- dom:FIGURE: [figs/hypersphere.png, width=400 frac=0.7] Ratio of hypersphere volume to hypercube volume.  -->\n",
    "<!-- begin figure -->\n",
    "\n",
    "<img src=\"figs/hypersphere.png\" width=\"400\"><p style=\"font-size: 0.9em\"><i>Figure 1: Ratio of hypersphere volume to hypercube volume.</i></p>\n",
    "<!-- end figure -->"
   ]
  }
 ],
 "metadata": {},
 "nbformat": 4,
 "nbformat_minor": 5
}
