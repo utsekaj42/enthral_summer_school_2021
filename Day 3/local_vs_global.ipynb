{
 "cells": [
  {
   "cell_type": "markdown",
   "id": "30e1c7f9",
   "metadata": {
    "editable": true
   },
   "source": [
    "<!-- HTML file automatically generated from DocOnce source (https://github.com/doconce/doconce/)\n",
    "doconce format html local_vs_global.do.txt --ipynb_admon=hrule --without_solutions --no_abort -->\n",
    "<!-- dom:TITLE: Local versus global sensitivity analysis  -->"
   ]
  },
  {
   "cell_type": "markdown",
   "id": "5cf2d4cf",
   "metadata": {
    "editable": true
   },
   "source": [
    "# Local versus global sensitivity analysis \n",
    "Motivation and useful purposes of sensitivity analysis\n",
    "\n",
    " * Parameter prioritization of parameters of high sensitivity (importance)\n",
    "\n",
    " * Parameter fixation of parameters of low sensitivity (importance)\n",
    "\n",
    " * Reveal surprising relations/properties of the model\n",
    "\n",
    " * Indentify critical regions in the input parameter space"
   ]
  },
  {
   "cell_type": "markdown",
   "id": "ca2ed45f",
   "metadata": {
    "editable": true
   },
   "source": [
    "## Local approaches based on derivatives\n",
    "\n",
    "Many sensitivity analyses found in the scientific literature are based\n",
    "on derivatives.  This fact has naturally a rational basis as the\n",
    "partial derivative $\\partial y/\\partial Z_i$ of a model predicion $y$\n",
    "with respect to an input $Z_i$, can be understood as the mathematical\n",
    "representation of the sensitivity of $y$ with respect to $Z_i$.\n",
    "\n",
    "Even though a local, partial derivative approach is computationally\n",
    "inexpensive it has in general limited usage for nonlinear models. The\n",
    "derivatives are linearizations of the model sensitivities around the\n",
    "point in the parameter space at which they are evaluated, and may only\n",
    "be extrapolated to provide information on the sensitivity in other\n",
    "regions of the parameter space in the case of a linear model.\n",
    "\n",
    "To illustrate the fraction of the parameter space one at maximum might\n",
    "explore with the local partial derivative approach (also called the\n",
    "one factor at the time (OAT) approach), condsider first a situation\n",
    "with to parameters. The fraction a OAT will span of the space is the\n",
    "given by the ratio of the area for a circle to that to the equivalent\n",
    "quadrat. As illustrated in the figure below.\n",
    "\n",
    "<!-- dom:FIGURE: [figs/hypersphere.png, width=400 frac=0.7] Ratio of hypersphere volume to hypercube volume. -->\n",
    "<!-- begin figure -->\n",
    "\n",
    "<img src=\"figs/hypersphere.png\" width=\"400\"><p style=\"font-size: 0.9em\"><i>Figure 1: Ratio of hypersphere volume to hypercube volume.</i></p>\n",
    "<!-- end figure -->\n",
    "\n",
    "To illustrate how the performance of the OAT rapidly detoriates as the\n",
    "number of parameters increase, we provide a code snippet which\n",
    "calculates the ratio of a [hypersphere](https://en.wikipedia.org/wiki/N-sphere#Recurrences) to a hypercube."
   ]
  },
  {
   "cell_type": "code",
   "execution_count": 1,
   "id": "7513ceda",
   "metadata": {
    "collapsed": false,
    "editable": true
   },
   "outputs": [],
   "source": [
    "",
    "\n",
    "# See https://en.wikipedia.org/wiki/N-sphere#Recurrences\n",
    "\n",
    "# %matplotlib widget\n",
    "from ipywidgets import widget\n",
    "from ipywidgets import interactive\n",
    "import numpy as np\n",
    "import matplotlib.pyplot as plt\n",
    "\n",
    "def hyperSphere_hyperCube_ratio(N):\n",
    "    Vsphere=[1]\n",
    "    Ssphere=[2]\n",
    "    Vcube=[1]\n",
    "    SphereCubeRatio=[]\n",
    "\n",
    "    dims=range(N)\n",
    "    \n",
    "       \n",
    "    for n in dims:\n",
    "        Ssphere.append(2*np.pi*Vsphere[n])\n",
    "        Vsphere.append(Ssphere[n]/(n+1))\n",
    "        Vcube.append(2**(n+1))\n",
    "        SphereCubeRatio.append(Vsphere[-1]/Vcube[-1])\n",
    "        \n",
    "    plt.figure()\n",
    "    plt.plot(dims,SphereCubeRatio)\n",
    "    plt.ylim(0,1)\n",
    "    _=plt.xlabel('Number of dimensions')\n",
    "    _=plt.ylabel('Hypersphere to hypercube volume ratio')\n",
    "        \n",
    "interactive_plot = interactive(hyperSphere_hyperCube_ratio, N=(1, 10))\n",
    "output = interactive_plot.children[-1]\n",
    "output.layout.height = '350px'\n",
    "display(interactive_plot)"
   ]
  }
 ],
 "metadata": {},
 "nbformat": 4,
 "nbformat_minor": 5
}
