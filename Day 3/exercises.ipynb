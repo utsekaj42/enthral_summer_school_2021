{
 "cells": [
  {
   "cell_type": "markdown",
   "id": "4ccfc187",
   "metadata": {
    "editable": true
   },
   "source": [
    "<!-- HTML file automatically generated from DocOnce source (https://github.com/doconce/doconce/)\n",
    "doconce format html exercises.do.txt --ipynb_admon=hrule --without_solutions --no_abort -->"
   ]
  },
  {
   "cell_type": "markdown",
   "id": "26ac4c4d",
   "metadata": {
    "editable": true
   },
   "source": [
    "# Exercises\n",
    "\n",
    "We will consider our all purpose model"
   ]
  },
  {
   "cell_type": "markdown",
   "id": "bc365387",
   "metadata": {
    "editable": true
   },
   "source": [
    "<!-- Equation labels as ordinary links -->\n",
    "<div id=\"_auto1\"></div>\n",
    "\n",
    "$$\n",
    "\\begin{equation} Y = \\sum_i^r \\Omega_i \\; \\mathbf{Z}_i\n",
    " \\tag{1}\n",
    "\\end{equation}\n",
    "$$"
   ]
  },
  {
   "cell_type": "markdown",
   "id": "db370b97",
   "metadata": {
    "editable": true
   },
   "source": [
    "for the two slightly different cases we have presented previously:\n",
    "\n",
    "**Case 1: Additive**"
   ]
  },
  {
   "cell_type": "markdown",
   "id": "949881c5",
   "metadata": {
    "editable": true
   },
   "source": [
    "<!-- Equation labels as ordinary links -->\n",
    "<div id=\"_auto2\"></div>\n",
    "\n",
    "$$\n",
    "\\begin{equation}\n",
    "Z_i  \\sim N(0, \\sigma_{Z_i}), \\qquad i=1,2, \\ldots, r \n",
    " \\tag{2}\n",
    "\\end{equation}\n",
    "$$"
   ]
  },
  {
   "cell_type": "markdown",
   "id": "411aaac9",
   "metadata": {
    "editable": true
   },
   "source": [
    "<!-- Equation labels as ordinary links -->\n",
    "<div id=\"_auto3\"></div>\n",
    "\n",
    "$$\n",
    "\\begin{equation}  \n",
    "\\Omega_i = \\textsf{constant} \n",
    " \\tag{3}\n",
    "\\end{equation}\n",
    "$$"
   ]
  },
  {
   "cell_type": "markdown",
   "id": "2e7652c9",
   "metadata": {
    "editable": true
   },
   "source": [
    "**Case 2: Non-additive (interaction)**"
   ]
  },
  {
   "cell_type": "markdown",
   "id": "3e97cf72",
   "metadata": {
    "editable": true
   },
   "source": [
    "<!-- Equation labels as ordinary links -->\n",
    "<div id=\"_auto4\"></div>\n",
    "\n",
    "$$\n",
    "\\begin{equation}\n",
    "Z_i  \\sim N(0, \\sigma_{Z_i}), \\qquad i=1,2, \\ldots, r \n",
    " \\tag{4}\n",
    "\\end{equation}\n",
    "$$"
   ]
  },
  {
   "cell_type": "markdown",
   "id": "8a9371d5",
   "metadata": {
    "editable": true
   },
   "source": [
    "<!-- Equation labels as ordinary links -->\n",
    "<div id=\"_auto5\"></div>\n",
    "\n",
    "$$\n",
    "\\begin{equation}  \n",
    "\\Omega_i  \\sim N(\\mu_{\\Omega_i}, \\sigma_{\\Omega_i})\n",
    " \\tag{5}\n",
    "\\end{equation}\n",
    "$$"
   ]
  },
  {
   "cell_type": "markdown",
   "id": "118c4ab7",
   "metadata": {
    "editable": true
   },
   "source": [
    "## Exercise: Sobol indices for an additive model\n",
    "\n",
    "For the additive model represented by Case 1:"
   ]
  },
  {
   "cell_type": "markdown",
   "id": "1d4c12f6",
   "metadata": {
    "editable": true
   },
   "source": [
    "**a)**\n",
    "Compute the first order Sobol indices analytically:"
   ]
  },
  {
   "cell_type": "markdown",
   "id": "461981aa",
   "metadata": {
    "editable": true
   },
   "source": [
    "<!-- Equation labels as ordinary links -->\n",
    "<div id=\"exeq:Si\"></div>\n",
    "\n",
    "$$\n",
    "\\begin{equation}\n",
    "S_i = \\frac{\\text{V}_{Z_i}(E_{Z_{\\sim i}} (Y\\;|\\;Z_i))}{\\text{V}(Y)}\n",
    " \\tag{6}\n",
    "\\end{equation}\n",
    "$$"
   ]
  },
  {
   "cell_type": "markdown",
   "id": "a3b4178d",
   "metadata": {
    "editable": true
   },
   "source": [
    "**b)**\n",
    "Show that $ \\sum_i \\left( S_{Z_i}^{\\sigma} \\right )^2 = 1$ for Case 1."
   ]
  },
  {
   "cell_type": "markdown",
   "id": "026d37b3",
   "metadata": {
    "editable": true
   },
   "source": [
    "**c)**\n",
    "Show that $S_{T_i} = S_{Z_i}$ for the additive model, i.e. that the\n",
    "variance of the model output is completely described by the first\n",
    "order indices."
   ]
  },
  {
   "cell_type": "markdown",
   "id": "709d3501",
   "metadata": {
    "editable": true
   },
   "source": [
    "## Exercise: Sobol indices for a model with interactions"
   ]
  },
  {
   "cell_type": "markdown",
   "id": "b6d3ae7a",
   "metadata": {
    "editable": true
   },
   "source": [
    "**a)**\n",
    "Compute analytically the first order Sobol indices  for the model defined by Case 2."
   ]
  },
  {
   "cell_type": "markdown",
   "id": "70aa786e",
   "metadata": {
    "editable": true
   },
   "source": [
    "**b)**\n",
    "Compute the second order indices for the interaction model"
   ]
  },
  {
   "cell_type": "markdown",
   "id": "16f4642e",
   "metadata": {
    "editable": true
   },
   "source": [
    "**c)**\n",
    "Show that interaction indices are zero for order 3 and a above for Case 2."
   ]
  },
  {
   "cell_type": "markdown",
   "id": "95ffccf2",
   "metadata": {
    "editable": true
   },
   "source": [
    "**d)**\n",
    "Compute the total sensitivity indices $S_{T_i}$ for Case 2."
   ]
  }
 ],
 "metadata": {},
 "nbformat": 4,
 "nbformat_minor": 5
}
