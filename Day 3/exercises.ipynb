{
 "cells": [
  {
   "cell_type": "markdown",
   "id": "4676667e",
   "metadata": {
    "editable": true
   },
   "source": [
    "<!-- HTML file automatically generated from DocOnce source (https://github.com/doconce/doconce/)\n",
    "doconce format html exercises.do.txt --ipynb_admon=hrule --without_solutions --no_abort -->"
   ]
  },
  {
   "cell_type": "markdown",
   "id": "0caeeee0",
   "metadata": {
    "editable": true
   },
   "source": [
    "# Exercises\n",
    "\n",
    "We will consider our all purpose model"
   ]
  },
  {
   "cell_type": "markdown",
   "id": "686f2ec4",
   "metadata": {
    "editable": true
   },
   "source": [
    "<!-- Equation labels as ordinary links -->\n",
    "<div id=\"_auto1\"></div>\n",
    "\n",
    "$$\n",
    "\\begin{equation} Y = \\sum_i^r \\Omega_i \\; \\mathbf{Z}_i\n",
    "\\label{_auto1} \\tag{1}\n",
    "\\end{equation}\n",
    "$$"
   ]
  },
  {
   "cell_type": "markdown",
   "id": "fe2ede45",
   "metadata": {
    "editable": true
   },
   "source": [
    "for the two slightly different cases we have presented previously:\n",
    "\n",
    "**Case 1: Additive**"
   ]
  },
  {
   "cell_type": "markdown",
   "id": "508a4223",
   "metadata": {
    "editable": true
   },
   "source": [
    "<!-- Equation labels as ordinary links -->\n",
    "<div id=\"_auto2\"></div>\n",
    "\n",
    "$$\n",
    "\\begin{equation}\n",
    "Z_i  \\sim N(0, \\sigma_{Z_i}), \\qquad i=1,2, \\ldots, r \n",
    "\\label{_auto2} \\tag{2}\n",
    "\\end{equation}\n",
    "$$"
   ]
  },
  {
   "cell_type": "markdown",
   "id": "4986593d",
   "metadata": {
    "editable": true
   },
   "source": [
    "<!-- Equation labels as ordinary links -->\n",
    "<div id=\"_auto3\"></div>\n",
    "\n",
    "$$\n",
    "\\begin{equation}  \n",
    "\\Omega_i = \\textsf{constant} \n",
    "\\label{_auto3} \\tag{3}\n",
    "\\end{equation}\n",
    "$$"
   ]
  },
  {
   "cell_type": "markdown",
   "id": "f9bac2f5",
   "metadata": {
    "editable": true
   },
   "source": [
    "**Case 2: Non-additive (interaction)**"
   ]
  },
  {
   "cell_type": "markdown",
   "id": "17d15785",
   "metadata": {
    "editable": true
   },
   "source": [
    "<!-- Equation labels as ordinary links -->\n",
    "<div id=\"_auto4\"></div>\n",
    "\n",
    "$$\n",
    "\\begin{equation}\n",
    "Z_i  \\sim N(0, \\sigma_{Z_i}), \\qquad i=1,2, \\ldots, r \n",
    "\\label{_auto4} \\tag{4}\n",
    "\\end{equation}\n",
    "$$"
   ]
  },
  {
   "cell_type": "markdown",
   "id": "278f0cbd",
   "metadata": {
    "editable": true
   },
   "source": [
    "<!-- Equation labels as ordinary links -->\n",
    "<div id=\"_auto5\"></div>\n",
    "\n",
    "$$\n",
    "\\begin{equation}  \n",
    "\\Omega_i  \\sim N(\\mu_{\\Omega_i}, \\sigma_{\\Omega_i})\n",
    "\\label{_auto5} \\tag{5}\n",
    "\\end{equation}\n",
    "$$"
   ]
  },
  {
   "cell_type": "markdown",
   "id": "5d733e05",
   "metadata": {
    "editable": true
   },
   "source": [
    "## Exercise: Sobol indices for an additive model\n",
    "\n",
    "For the additive model represented by Case 1:"
   ]
  },
  {
   "cell_type": "markdown",
   "id": "233b44ba",
   "metadata": {
    "editable": true
   },
   "source": [
    "**a)**\n",
    "Compute the first order Sobol indices analytically:"
   ]
  },
  {
   "cell_type": "markdown",
   "id": "52c4dc3a",
   "metadata": {
    "editable": true
   },
   "source": [
    "<!-- Equation labels as ordinary links -->\n",
    "<div id=\"exeq:Si\"></div>\n",
    "\n",
    "$$\n",
    "\\begin{equation}\n",
    "S_i = \\frac{\\text{V}_{Z_i}(E_{Z_{\\sim i}} (Y\\;|\\;Z_i))}{\\text{V}(Y)}\n",
    "\\label{exeq:Si} \\tag{6}\n",
    "\\end{equation}\n",
    "$$"
   ]
  },
  {
   "cell_type": "markdown",
   "id": "c891e813",
   "metadata": {
    "editable": true
   },
   "source": [
    "**b)**\n",
    "Show that $ \\sum_i \\left( S_{Z_i}^{\\sigma} \\right )^2 = 1$ for Case 1."
   ]
  },
  {
   "cell_type": "markdown",
   "id": "c5bdc56a",
   "metadata": {
    "editable": true
   },
   "source": [
    "**c)**\n",
    "Show that $S_{T_i} = S_{Z_i}$ for the additive model, i.e. that the\n",
    "variance of the model output is completely described by the first\n",
    "order indices."
   ]
  },
  {
   "cell_type": "markdown",
   "id": "d0057aa0",
   "metadata": {
    "editable": true
   },
   "source": [
    "## Exercise: Sobol indices for a model with interactions"
   ]
  },
  {
   "cell_type": "markdown",
   "id": "09f8108d",
   "metadata": {
    "editable": true
   },
   "source": [
    "**a)**\n",
    "Compute analytically the first order Sobol indices  for the model defined by Case 2."
   ]
  },
  {
   "cell_type": "markdown",
   "id": "0eb44fa8",
   "metadata": {
    "editable": true
   },
   "source": [
    "**b)**\n",
    "Compute the second order indices for the interaction model"
   ]
  },
  {
   "cell_type": "markdown",
   "id": "fc706d82",
   "metadata": {
    "editable": true
   },
   "source": [
    "**c)**\n",
    "Show that interaction indices are zero for order 3 and a above for Case 2."
   ]
  },
  {
   "cell_type": "markdown",
   "id": "e43fddbf",
   "metadata": {
    "editable": true
   },
   "source": [
    "**d)**\n",
    "Compute the total sensitivity indices $S_{T_i}$ for Case 2."
   ]
  }
 ],
 "metadata": {},
 "nbformat": 4,
 "nbformat_minor": 5
}
