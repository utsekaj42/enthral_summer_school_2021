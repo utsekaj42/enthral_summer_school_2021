{
 "cells": [
  {
   "cell_type": "markdown",
   "id": "69fd3654",
   "metadata": {
    "editable": true
   },
   "source": [
    "<!-- HTML file automatically generated from DocOnce source (https://github.com/doconce/doconce/)\n",
    "doconce format html interactive_gstar_function.do.txt --ipynb_admon=hrule --without_solutions --no_abort -->"
   ]
  },
  {
   "cell_type": "markdown",
   "id": "62fe1eed",
   "metadata": {
    "editable": true
   },
   "source": [
    "# Sensitivity indices for Sobol's $G^{*}$ function\n",
    "\n",
    "**Leif Rune Hellevik**\n",
    "\n",
    "Run the first cell to initialise plotting and printing modules for later use (and some system settings)."
   ]
  },
  {
   "cell_type": "code",
   "execution_count": 1,
   "id": "76dbfcdb",
   "metadata": {
    "collapsed": false,
    "editable": true
   },
   "outputs": [],
   "source": [
    "",
    "\n",
    "# ipython magic\n",
    "%matplotlib notebook\n",
    "%load_ext autoreload\n",
    "%autoreload 2\n",
    "import os, sys, inspect\n",
    "import matplotlib\n",
    "import matplotlib.pyplot as plt\n",
    "# Use this if you want to include modules from a subfolder\n",
    "cmd_subfolder = os.path.realpath(os.path.abspath(os.path.join(os.path.split(inspect.getfile( inspect.currentframe() ))[0],\"python_source\")))\n",
    "if cmd_subfolder not in sys.path:\n",
    "     sys.path.insert(0, cmd_subfolder)\n",
    "\n",
    "\n",
    "from present_output import print_vectors_relerror, print_3vectors_relerror"
   ]
  },
  {
   "cell_type": "markdown",
   "id": "5ab90595",
   "metadata": {
    "editable": true
   },
   "source": [
    "# Sobol's $G^{*}$ function\n",
    "<div id=\"sec:G_functions\"></div>\n",
    "\n",
    "In our previous notebook [g_function](interactive_g_function.ipynb),\n",
    "we demonstrated how polynomial chaos expansions (with `chaospy`) may\n",
    "be used for approximation of the Sobol sensitivity indices. The\n",
    "example was Sobol's G function and was taken from [[saltelli2010]](#saltelli2010) which is available [online](https://www.sciencedirect.com/science/article/pii/S0010465509003087) too. \n",
    "\n",
    "In this notebook we focus on another function, \n",
    "which has proved to be usefull as a test function with analytical\n",
    "solutions for the sensitivity indicies, namely Sobol's $G^*$ function which\n",
    "is defined much in the same manner as the\n",
    "[g_function](interactive_g_function.ipynb):"
   ]
  },
  {
   "cell_type": "markdown",
   "id": "63f29aac",
   "metadata": {
    "editable": true
   },
   "source": [
    "<!-- Equation labels as ordinary links -->\n",
    "<div id=\"eq:1\"></div>\n",
    "\n",
    "$$\n",
    "\\begin{equation}\n",
    "Y=G(X) =  G(X_1, X_2, \\tag{1}\n",
    "\\end{equation}\n",
    "$$"
   ]
  },
  {
   "cell_type": "markdown",
   "id": "a3a6a146",
   "metadata": {
    "editable": true
   },
   "source": [
    "which is identical with"
   ]
  },
  {
   "cell_type": "markdown",
   "id": "8c551cba",
   "metadata": {
    "editable": true
   },
   "source": [
    "<!-- Equation labels as ordinary links -->\n",
    "<div id=\"eq:2\"></div>\n",
    "\n",
    "$$\n",
    "\\begin{equation}\n",
    "g_i =  \\tag{2}\n",
    "\\end{equation}\n",
    "$$"
   ]
  },
  {
   "cell_type": "markdown",
   "id": "97126165",
   "metadata": {
    "editable": true
   },
   "source": [
    "and all the input factors $X_i$ are assumed to be uniformly\n",
    "distributed in the interval $[0,1]$, an the coefficients $a_i$ are\n",
    "assumed to be positive real numbers $(a_i \\leq 0)$, $\\delta_i \\in\n",
    "[0,1]$, and $\\alpha_i >0$. Finally, $ I(X_i+\\delta_i)$ denotes the\n",
    "integer value for $X_i+\\delta_i$. Note that for for $\\alpha_i=1$ and\n",
    "$\\delta_i=0$ $g^*$ reduces to $g$ in the\n",
    "[g_function](interactive_g_function.ipynb) notebook. The $\\alpha_i$\n",
    "and $\\delta_i$ are curvature and shift parameters, respectively.\n",
    "\n",
    "The number of factors *k* can be varied as the reader pleases, but the\n",
    "minimum number to produce a meaningful inference is set at three.\n",
    "\n",
    "As you will be able to explore below, the sensitivity $S_i$ of $G$ in\n",
    "([1](#eq:1)) with respect to a specific input factor $X_i$, will depend\n",
    "on the value of the corresponding coefficient $a_i$; small values of\n",
    "$a_i$ (e.g. $a_i=0$) will yield a high corresponding $S_i$, meaning\n",
    "that $X_i$ is an important/influential variable on the variance or\n",
    "uncertainty of $G$.\n",
    "\n",
    "We have implemented Sobol's  $G^*$ function in ([1](#eq:1)) and  ([2](#eq:2)) in the code snippet below:"
   ]
  },
  {
   "cell_type": "code",
   "execution_count": 2,
   "id": "a60a6738",
   "metadata": {
    "collapsed": false,
    "editable": true
   },
   "outputs": [],
   "source": [
    "# model function\n",
    "import numpy as np\n",
    "\n",
    "def g(Xj,aj,alphaj,deltaj):\n",
    "    return ((1+alphaj)*np.abs(2*(Xj+deltaj-(Xj+deltaj).astype(int))-1)**alphaj+aj)/(1+aj)\n",
    "\n",
    "\n",
    "def G(X,a,alpha,d):\n",
    "    G_vector=np.ones(X.shape[0])\n",
    "\n",
    "    for j, aj in enumerate(a):\n",
    "        np.multiply(G_vector,g(X[:,j],aj,alpha[j],d[j]),G_vector)\n",
    "    return G_vector"
   ]
  },
  {
   "cell_type": "markdown",
   "id": "ca6f3629",
   "metadata": {
    "editable": true
   },
   "source": [
    "The sensitivity indices $S_i$ and $S_{Ti}$ for $Y=G(X)$ in\n",
    "eq. ([1](#eq:1)) may be derived as outlined in [[saltelli2010]](#saltelli2010)\n",
    "(or [online](https://www.sciencedirect.com/science/article/pii/S0010465509003087)).\n",
    "\n",
    "The conditional variance $V_i$ may be found to be:"
   ]
  },
  {
   "cell_type": "markdown",
   "id": "4c9effea",
   "metadata": {
    "editable": true
   },
   "source": [
    "<!-- Equation labels as ordinary links -->\n",
    "<div id=\"eq:3\"></div>\n",
    "\n",
    "$$\n",
    "\\begin{equation}\n",
    "V_i \\left ( G^*(X_i,a_i,\\alpha_i) \\right) = \\frac{\\alpha_i^2}{(1+2\\alpha_i)(1+a_i)^2}\n",
    " \\tag{3}\n",
    "\\end{equation}\n",
    "$$"
   ]
  },
  {
   "cell_type": "markdown",
   "id": "69f7b032",
   "metadata": {
    "editable": true
   },
   "source": [
    "while the $V_{T_I}$ and the variance $V$ are given by the same\n",
    "expressions as for the [g_function](interactive_g_function.ipynb)."
   ]
  },
  {
   "cell_type": "markdown",
   "id": "f5e36fc0",
   "metadata": {
    "editable": true
   },
   "source": [
    "<!-- Equation labels as ordinary links -->\n",
    "<div id=\"eq:4\"></div>\n",
    "\n",
    "$$\n",
    "\\begin{equation}\n",
    "V_{T_i} = V_i \\; \\prod_{j\\neq i} (1+V_j) \\qquad \\text{and} \\qquad V = \\prod_{i=1}^k (1+V_i) -1\n",
    " \\tag{4}\n",
    "\\end{equation}\n",
    "$$"
   ]
  },
  {
   "cell_type": "markdown",
   "id": "2215c9f2",
   "metadata": {
    "editable": true
   },
   "source": [
    "Consequently the first order sensitivity indices $S_i$ of $Y=G(X)$, are given by"
   ]
  },
  {
   "cell_type": "markdown",
   "id": "e22c7b42",
   "metadata": {
    "editable": true
   },
   "source": [
    "<!-- Equation labels as ordinary links -->\n",
    "<div id=\"eq:5\"></div>\n",
    "\n",
    "$$\n",
    "\\begin{equation}\n",
    "S_i=\\frac{V_i}{V} \\qquad \\text{and} \\qquad S_{T_i}=\\frac{V_{T_i}}{V}\n",
    " \\tag{5}\n",
    "\\end{equation}\n",
    "$$"
   ]
  },
  {
   "cell_type": "markdown",
   "id": "15b1abd1",
   "metadata": {
    "editable": true
   },
   "source": [
    "<!-- The expressions for the variance obtained when keeping one parameter -->\n",
    "<!-- fixed and varying all the others can be found below alow with the -->\n",
    "<!-- expression for the total variance.  The Sensitivity indices -->\n",
    "<!-- expressions can be easily retrieved from these. -->\n",
    "\n",
    "<!-- In the code snippet below alow you to experiment interactively to so -->\n",
    "<!-- how the values of $a_i$ affect the correspoding $S_i$, i.e the -->\n",
    "<!-- sensitivity of $G$ with respect to $X_i$. -->"
   ]
  },
  {
   "cell_type": "code",
   "execution_count": 3,
   "id": "26420378",
   "metadata": {
    "collapsed": false,
    "editable": true
   },
   "outputs": [],
   "source": [
    "# Analytical computations\n",
    "f, ax = plt.subplots(1,1)\n",
    "f.suptitle('G* function with variable coefficients')\n",
    "\n",
    "# import modules\n",
    "import numpy as np\n",
    "\n",
    "def Vi(ai,alphai):\n",
    "    return alphai**2/((1+2*alphai)*(1+ai)**2)\n",
    "\n",
    "def V(a_prms,alpha):\n",
    "    D=1\n",
    "    for ai,alphai in zip(a_prms,alpha):\n",
    "        D*=(1+Vi(ai,alphai))     \n",
    "    return D-1\n",
    "\n",
    "\n",
    "def S_i(a,alpha):\n",
    "    S_i=np.zeros_like(a)\n",
    "    for i, (ai,alphai) in enumerate(zip(a,alpha)):\n",
    "        S_i[i]=Vi(ai,alphai)/V(a,alpha)\n",
    "    return S_i\n",
    "\n",
    "def S_T(a,alpha):\n",
    "    # to be completed\n",
    "    S_T=np.zeros_like(a)\n",
    "    Vtot=V(a,alpha)\n",
    "    for i, (ai,alphai) in enumerate(zip(a,alpha)):\n",
    "        S_T[i]=(Vtot+1)/(Vi(ai,alphai)+1)*Vi(ai,alphai)/Vtot\n",
    "    return S_T\n",
    "\n",
    "\n",
    "def update_Sobol(**kwargs):\n",
    "    import re\n",
    "    r = re.compile(\"([a-zA-Z]+)([0-9]+)\")\n",
    "    ax.clear()\n",
    "    prm_cat=int(len(kwargs)/k)\n",
    "    prms=np.zeros((prm_cat,k))\n",
    " \n",
    "    for key, value in kwargs.items(): #find indx and value for a_prms\n",
    "        pre,post=r.match(key).groups()\n",
    "        cat_idx=strings.index(pre)\n",
    "        prms[cat_idx,int(post)]=value\n",
    "            \n",
    "        \n",
    "    Si[:]=S_i(prms[0,:],prms[1,:])\n",
    "    ST[:]=S_T(prms[0,:],prms[1,:])\n",
    "    width=0.4\n",
    "    x_tick_list=np.arange(len(prms[0,:]))+1\n",
    "    ax.set_xticks(x_tick_list+width/2)\n",
    "    x_labels=['x'+str(i) for i in np.arange(len(prms[0,:]))]\n",
    "    ax.set_xticklabels(x_labels)\n",
    "    ax.set_ylim(0,1)\n",
    "\n",
    "    ax.bar(x_tick_list,Si,width,color='blue')\n",
    "    ax.bar(x_tick_list+width,ST,width,color='red')        \n",
    "    ax.legend(['First order indices','Total indices'])\n",
    "\n",
    "k=4 #number of prms\n",
    "strings=['a','alpha','delta']\n",
    "a_lbls=[strings[0]+str(i) for i in np.arange(k)]\n",
    "alpha_lbls=[strings[1]+str(i) for i in np.arange(k)]\n",
    "delta_lbls=[strings[2]+str(i) for i in np.arange(k)]\n",
    "Si=np.zeros(k)\n",
    "ST=np.zeros(k)\n",
    "a_prms=np.zeros(k)\n",
    "alpha=np.zeros_like(a_prms)\n",
    "delta=np.zeros_like(a_prms)\n",
    "\n",
    "\n",
    "\n",
    "import ipywidgets as widgets    \n",
    "my_sliders=[]\n",
    "for i in range(k):\n",
    "    my_sliders.append(widgets.FloatSlider(min=0, max=15, value=6.52, description=a_lbls[i]))\n",
    "    my_sliders.append(widgets.FloatSlider(min=0, max=15, value=1.0, description=alpha_lbls[i]))\n",
    "    my_sliders.append(widgets.FloatSlider(min=0, max=1.0, value=0.5, description=delta_lbls[i]))\n",
    "\n",
    "\n",
    "slider_dict = {slider.description:slider for slider in my_sliders}\n",
    "ui_left = widgets.VBox(my_sliders[0::3]) \n",
    "ui_mid  = widgets.VBox(my_sliders[1::3])\n",
    "ui_right = widgets.VBox(my_sliders[2::3])\n",
    "ui=widgets.HBox([ui_left,ui_mid,ui_right])\n",
    "\n",
    "\n",
    "out=widgets.interactive_output(update_Sobol, slider_dict) \n",
    "\n",
    "display(ui,out)"
   ]
  },
  {
   "cell_type": "markdown",
   "id": "fbede108",
   "metadata": {
    "editable": true
   },
   "source": [
    "Use the sliders to see how the sensitivities vary with the values of $a_i$, and reflect on the effect. \n",
    "\n",
    "Note from the analytical expressions $V_i$ and $V_{T_i}$ (derived in\n",
    "[[saltelli2010]](#saltelli2010)) in the sensitivity indices do not depend on the\n",
    "shift paramters $\\delta_i$.\n",
    "\n",
    "For $\\alpha_i<1$ the $G^*$ function is concave, while the function is\n",
    "convex for $\\alpha_i>1$, which is the reason for calling $\\alpha$ a\n",
    "shape parameter."
   ]
  },
  {
   "cell_type": "markdown",
   "id": "b49ee86f",
   "metadata": {
    "editable": true
   },
   "source": [
    "## Approximation of the sensitivity indices for Sobol's $G^*$ function with spectral expansions\n",
    "\n",
    "In this section we show the spectral expansion module [chaospy](https://github.com/jonathf/chaospy) may be used to compute the Sobol\n",
    "indices for Sobol's $G^*$ function.  A more in depth treatment of\n",
    "`chaospy` and its usage is provided in the separate notebook [A\n",
    "practical introduction to polynomial chaos with the chaospy package](introduction_gpc.ipynb). Furthermore, you may find our previous \"A\n",
    "Guide to Uncertainty Quantification and Sensitivity Analysis for\n",
    "Cardiovascular Applications\" [[eck2015guide]](#eck2015guide) as a useful\n",
    "introduction to how polynomial chaos expansions may be used for\n",
    "UQ&S. We are therefore focusing on the application of the spectral\n",
    "expansions and how they agree with the analytical solutions for the\n",
    "indices, rather than presenting the spectral expansion theory."
   ]
  },
  {
   "cell_type": "code",
   "execution_count": 4,
   "id": "b7a6b711",
   "metadata": {
    "collapsed": false,
    "editable": true
   },
   "outputs": [],
   "source": [
    "# chaospy G-function with sliders\n",
    "import chaospy as cp\n",
    "import chaospy_wrapper as cpw\n",
    "\n",
    "if not 'jpdf' in globals():\n",
    "    jpdf = cp.Iid(cp.Uniform(),k) #the joint pdf\n",
    "    print('Create the joint pdf')\n",
    "\n",
    "\n",
    "def update_chaospy_G(**kwargs):\n",
    "    NS=kwargs['NS']\n",
    "    del kwargs['NS']\n",
    "    polynomial_order=kwargs['polynomial_order']\n",
    "    del kwargs['polynomial_order']\n",
    "\n",
    "    prm_cat=int(len(kwargs)/k)\n",
    "    prms=np.zeros((prm_cat,k))\n",
    "\n",
    "    import re\n",
    "    r = re.compile(\"([a-zA-Z]+)([0-9]+)\")\n",
    "\n",
    " \n",
    "    for key, value in kwargs.items(): #find indx and value for a_prms\n",
    "        pre,post=r.match(key).groups()\n",
    "        cat_idx=strings.index(pre)\n",
    "        prms[cat_idx,int(post)]=value\n",
    "\n",
    "\n",
    "    X=jpdf.sample(NS)\n",
    "    print('Number of samples: ',NS)\n",
    "\n",
    "    G_sample=G(X.transpose(),prms[0,:],prms[1,:],prms[2,:])\n",
    "\n",
    "    basis = cpw.generate_basis(polynomial_order, jpdf)\n",
    "    expansion = cpw.fit_regression(basis, X, G_sample)\n",
    "\n",
    "    exp_pc = cpw.E(expansion, jpdf)\n",
    "    std_pc = cpw.Std(expansion, jpdf)\n",
    "    print(\"Statistics polynomial chaos\\n\")\n",
    "    print('\\n        E(Y)  |  std(Y) \\n')\n",
    "    print('pc  : {:2.5f} | {:2.5f}'.format(float(exp_pc), std_pc))\n",
    "    S_pc = cpw.Sens_m(expansion, jpdf) #Si from chaospy\n",
    "    S_tpc = cpw.Sens_t(expansion, jpdf) #Total effect sensitivity index from chaospy\n",
    "    \n",
    "    row_labels= ['S_'+str(idx) for idx in range(len(a_prms))]\n",
    "    col_labels=['Chaospy','Analytical','Error (%)']\n",
    "\n",
    "    print(\"\\nFirst Order Indices\")\n",
    "    print_vectors_relerror(S_pc,Si,col_labels,row_labels,[3,3,0])\n",
    "\n",
    "    print(\"\\n\\nTotal Effect Indices\")\n",
    "    row_labels= ['St_'+str(idx) for idx in range(k)]\n",
    "    print_vectors_relerror(S_tpc,ST,col_labels,row_labels,[3,3,0])\n",
    "\n",
    "\n",
    "if (len(my_sliders)==len(a_prms)*3):   #add sliders if not added before\n",
    "    my_sliders.append(widgets.IntSlider(min=500,max=5000,step=200,value=500,description='NS')) #add slider for samples\n",
    "    my_sliders.append(widgets.IntSlider(description='polynomial_order', min=1,max=6,value=4)) # add slider for polynomial order\n",
    "\n",
    "    slider_dict = {slider.description:slider for slider in my_sliders} #add the sliders in the dictionary \n",
    "\n",
    "    ui_left = widgets.VBox(my_sliders[0::3]) \n",
    "    ui_mid  = widgets.VBox(my_sliders[1::3])\n",
    "    ui_right = widgets.VBox(my_sliders[2::3])\n",
    "    ui=widgets.HBox([ui_left,ui_mid,ui_right])\n",
    "\n",
    "out=widgets.interactive_output(update_chaospy_G, slider_dict) \n",
    "display(ui,out)\n",
    "\n",
    "# end chaospy G-function with sliders"
   ]
  },
  {
   "cell_type": "markdown",
   "id": "47bdbe4c",
   "metadata": {
    "editable": true
   },
   "source": [
    "You may check whether approximated sensitivity indices are independent of the\n",
    "shift paramters $\\delta_i$, as they should according according to the analytical expressions for $V_i$ in eq. ([3](#eq:3))."
   ]
  },
  {
   "cell_type": "markdown",
   "id": "665aec97",
   "metadata": {
    "editable": true
   },
   "source": [
    "## Comparison of MC and PC approximation of the sensitivity indices\n",
    "\n",
    "In this section we demonstrate how Monte Carlo simulations and\n",
    "Polynomial Chaos expansions both may be used to estimate the Sobol\n",
    "indices and compare their estimates with the analytical solutions."
   ]
  },
  {
   "cell_type": "code",
   "execution_count": 5,
   "id": "3a57ff7f",
   "metadata": {
    "collapsed": false,
    "editable": true
   },
   "outputs": [],
   "source": [
    "# mc and pc comparison for Gstar-function with sliders\n",
    "\n",
    "import monte_carlo as mc\n",
    "\n",
    "if not 'jpdf' in globals():\n",
    "    jpdf = cp.Iid(cp.Uniform(),k) #the joint pdf\n",
    "    print('Create the joint pdf')\n",
    "\n",
    "\n",
    "def update_Gstar(**kwargs):\n",
    "    NsPC=kwargs['NsPC']\n",
    "    del kwargs['NsPC']\n",
    "    NsMC=kwargs['NsMC']\n",
    "    del kwargs['NsMC']\n",
    "    \n",
    "    polynomial_order=kwargs['polynomial_order']\n",
    "    del kwargs['polynomial_order']\n",
    "\n",
    "    prm_cat=int(len(kwargs)/k)\n",
    "    prms=np.zeros((prm_cat,k))\n",
    "\n",
    "    import re\n",
    "    r = re.compile(\"([a-zA-Z]+)([0-9]+)\")\n",
    "\n",
    " \n",
    "    for key, value in kwargs.items(): #find indx and value for a_prms\n",
    "        pre,post=r.match(key).groups()\n",
    "        cat_idx=strings.index(pre)\n",
    "        prms[cat_idx,int(post)]=value\n",
    "        \n",
    "    ## Update the analytical indices\n",
    "    Si[:]=S_i(prms[0,:],prms[1,:])\n",
    "    ST[:]=S_T(prms[0,:],prms[1,:])\n",
    "\n",
    "\n",
    "    ## Monte Carlo update\n",
    "    print('Number of samples for Monte Carlo: ', NsMC) \n",
    "    X_mc=jpdf.sample(NsMC)\n",
    "    A, B, C = mc.generate_sample_matrices_mc(NsMC, k, jpdf, sample_method='R') #A, B, C already transposed\n",
    "    G_A_sample = G(A,prms[0,:],prms[1,:],prms[2,:])\n",
    "    G_B_sample = G(B,prms[0,:],prms[1,:],prms[2,:])\n",
    "    G_C_sample_list = np.array([G(C_i,prms[0,:],prms[1,:],prms[2,:]) for C_i in C])\n",
    "    \n",
    "    exp_mc = np.mean(G_A_sample)\n",
    "    std_mc = np.std(G_A_sample)\n",
    "    print(\"Statistics Monte Carlo\\n\")\n",
    "    print('\\n        E(Y)  |  std(Y) \\n')\n",
    "    print('mc  : {:2.5f} | {:2.5f}'.format(float(exp_mc), std_mc))\n",
    "    \n",
    "    S_mc, S_tmc = mc.calculate_sensitivity_indices_mc(G_A_sample, G_B_sample, G_C_sample_list)\n",
    "\n",
    "\n",
    "    ## update PC estimates\n",
    "    Xpc=jpdf.sample(NsPC)\n",
    "    print('Number of samples: ',NsPC)\n",
    "\n",
    "    G_sample=G(Xpc.transpose(),prms[0,:],prms[1,:],prms[2,:])\n",
    "\n",
    "    basis = cpw.generate_basis(polynomial_order, jpdf)\n",
    "    expansion = cpw.fit_regression(basis, Xpc, G_sample)\n",
    "\n",
    "    exp_pc = cpw.E(expansion, jpdf)\n",
    "    std_pc = cpw.Std(expansion, jpdf)\n",
    "    print(\"Statistics polynomial chaos\\n\")\n",
    "    print('\\n        E(Y)  |  std(Y) \\n')\n",
    "    print('pc  : {:2.5f} | {:2.5f}'.format(float(exp_pc), std_pc))\n",
    "    S_pc = cpw.Sens_m(expansion, jpdf) #Si from chaospy\n",
    "    S_tpc = cpw.Sens_t(expansion, jpdf) #Total effect sensitivity index from chaospy\n",
    "    row_labels= ['S_'+str(idx) for idx in range(k)]\n",
    "    col_labels=['Chaospy','Analytical','Error (%)']\n",
    "\n",
    "    row_labels= ['S_'+str(idx) for idx in range(len(a_prms))]\n",
    "    #col_labels=['Chaospy','Analytical','Error (%)']\n",
    "    col_labels=['Monte Carlo','Err (%)','PolyChaos','Err (%)']\n",
    "\n",
    "\n",
    "    print(\"\\nFirst Order Indices\")\n",
    "#    print_vectors_relerror(S_pc,Si,col_labels,row_labels,[3,3,0])\n",
    "    print_3vectors_relerror(S_mc,S_pc, Si, col_labels, row_labels, [3,0,3,0])\n",
    "\n",
    "    print(\"\\n\\nTotal Effect Indices\")\n",
    "    row_labels= ['St_'+str(idx) for idx in range(k)]\n",
    "#    print_vectors_relerror(S_tpc,ST,col_labels,row_labels,[3,3,0])\n",
    "    print_3vectors_relerror(S_tmc,S_tpc, ST, col_labels, row_labels, [3,0,3,0])\n",
    "\n",
    "\n",
    "\n",
    "## Set up the sliders \n",
    "cmp_sliders=[]\n",
    "for i in range(k):\n",
    "    cmp_sliders.append(widgets.FloatSlider(min=0, max=15, value=6.52, description=a_lbls[i]))\n",
    "    cmp_sliders.append(widgets.FloatSlider(min=0, max=15, value=1.0, description=alpha_lbls[i]))\n",
    "    cmp_sliders.append(widgets.FloatSlider(min=0, max=1.0, value=0.5, description=delta_lbls[i]))\n",
    "\n",
    "cmp_sliders.append(widgets.IntSlider(min=500,max=5000,step=200,value=500,description='NsPC')) #add slider for samples\n",
    "cmp_sliders.append(widgets.IntSlider(min=500,max=50000,step=200,value=500,description='NsMC')) #add slider for samples\n",
    "cmp_sliders.append(widgets.IntSlider(description='polynomial_order', min=1,max=6,value=4)) # add slider for polynomial order\n",
    "\n",
    "slider_dict = {slider.description:slider for slider in cmp_sliders} #add the sliders in the dictionary \n",
    "\n",
    "ui_left = widgets.VBox(cmp_sliders[0::3]) \n",
    "ui_mid  = widgets.VBox(cmp_sliders[1::3])\n",
    "ui_right = widgets.VBox(cmp_sliders[2::3])\n",
    "ui=widgets.HBox([ui_left,ui_mid,ui_right])\n",
    "\n",
    "out=widgets.interactive_output(update_Gstar, slider_dict) \n",
    "display(ui,out)"
   ]
  },
  {
   "cell_type": "markdown",
   "id": "377f6592",
   "metadata": {
    "editable": true
   },
   "source": [
    "# References\n",
    "\n",
    "1. <div id=\"saltelli2010\"></div> **A. Saltelli, P. Annoni, I. Azzini, F. Campolongo, M. Ratto and S. Tarantola**.  Variance Based Sensitivity Analysis of Model Output. Design and Estimator for the Total Sensitivity Index, *Computer Physics Communications*, 181(2), pp. 259-270, 2010.\n",
    "\n",
    "2. <div id=\"eck2015guide\"></div> **V. G. Eck, W. P. Donders, J. Sturdy, J. Feinberg, T. Delhaas, L. T. Hellevik and W. Huberts**.  A Guide to Uncertainty Quantification and Sensitivity Analysis for Cardiovascular Applications, *International Journal for Numerical Methods in Biomedical Engineering*, 2015."
   ]
  }
 ],
 "metadata": {},
 "nbformat": 4,
 "nbformat_minor": 5
}
