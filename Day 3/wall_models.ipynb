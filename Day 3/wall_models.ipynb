{
 "cells": [
  {
   "cell_type": "markdown",
   "id": "e4a1ffd5",
   "metadata": {
    "editable": true
   },
   "source": [
    "<!-- HTML file automatically generated from DocOnce source (https://github.com/doconce/doconce/)\n",
    "doconce format html wall_models.do.txt --ipynb_admon=hrule --without_solutions --no_abort -->\n",
    "<!-- dom:TITLE: Uncertainty quantification and sensitivity analysis for arterial wall models -->"
   ]
  },
  {
   "cell_type": "markdown",
   "id": "3c6b97e1",
   "metadata": {
    "editable": true
   },
   "source": [
    "# Uncertainty quantification and sensitivity analysis for arterial wall models\n",
    "**Vinzenz Gregor Eck**, Expert Analytics, Oslo  \n",
    "**Jacob Sturdy**, Department of Structural Engineering, NTNU\n",
    "\n",
    "Date: **Jul 1, 2021**"
   ]
  },
  {
   "cell_type": "code",
   "execution_count": 1,
   "id": "e77de7b7",
   "metadata": {
    "collapsed": false,
    "editable": true
   },
   "outputs": [],
   "source": [
    "# ipython magic\n",
    "%matplotlib notebook\n",
    "%load_ext autoreload\n",
    "%autoreload 2"
   ]
  },
  {
   "cell_type": "code",
   "execution_count": 2,
   "id": "47f11f02",
   "metadata": {
    "collapsed": false,
    "editable": true
   },
   "outputs": [],
   "source": [
    "",
    "\n",
    "import matplotlib\n",
    "import matplotlib.pyplot as plt"
   ]
  },
  {
   "cell_type": "code",
   "execution_count": 3,
   "id": "40583123",
   "metadata": {
    "collapsed": true,
    "editable": true
   },
   "outputs": [],
   "source": [
    "import chaospy as cp\n",
    "import chaospy_wrapper as cpw\n",
    "import numpy as np\n",
    "from monte_carlo import generate_sample_matrices_mc\n",
    "from monte_carlo import calculate_sensitivity_indices_mc\n",
    "unit_mmhg_pa = 133.3\n",
    "unit_pa_mmhg = 1./unit_mmhg_pa\n",
    "unit_cm2_m2 = 1. / 100. / 100.\n",
    "unit_m2_cm2 = 1. / unit_cm2_m2"
   ]
  },
  {
   "cell_type": "markdown",
   "id": "ce178f05",
   "metadata": {
    "editable": true
   },
   "source": [
    "# Introduction\n",
    "<div id=\"sec:introduction\"></div>\n",
    "The arterial wall models we are investigating in this part, are used to describe the (visco-)elastic behaviour of arteries in one-dimensional\n",
    "simulations of the cardiovascular system."
   ]
  },
  {
   "cell_type": "markdown",
   "id": "f8f01d5a",
   "metadata": {
    "editable": true
   },
   "source": [
    "# Arterial Wall Models\n",
    "<div id=\"sec:polynomialChaos\"></div>\n",
    "\n",
    "The elastic wall models are simplified algebraic functions $A(P)$ ([[eck2015stochastic;@boileau_benchmark_2015]](#eck2015stochastic;@boileau_benchmark_2015)),\n",
    "which state the arterial lumen area $A$ as function of transmural pressure $P$.\n",
    "\n",
    "For the calibration of the applied wall models, the wave speed in an arterial segment is required.\n",
    "The wave speed is given from fluid dynamics equations for one-dimensional arteries ([[eck2015stochastic]](#eck2015stochastic)):"
   ]
  },
  {
   "cell_type": "markdown",
   "id": "0f326524",
   "metadata": {
    "editable": true
   },
   "source": [
    "<!-- Equation labels as ordinary links -->\n",
    "<div id=\"eq:defwaveSpeed\"></div>\n",
    "\n",
    "$$\n",
    "\\begin{equation}\n",
    " \\tag{1}\n",
    "c(P) = \\sqrt{\\frac{A(P)}{\\rho\\ C(P)}},\n",
    "\\end{equation}\n",
    "$$"
   ]
  },
  {
   "cell_type": "markdown",
   "id": "6ecd9b0b",
   "metadata": {
    "editable": true
   },
   "source": [
    "with blood density $\\rho= 1050\\ [kg\\ m^{-3}]$ and compliance $C(P) = dA / dP$."
   ]
  },
  {
   "cell_type": "markdown",
   "id": "b34cf86a",
   "metadata": {
    "editable": true
   },
   "source": [
    "## *Quadratic* model\n",
    "The *Quadratic* area-pressure relationship ([[sherwin2003]](#sherwin2003)) is defined as:"
   ]
  },
  {
   "cell_type": "markdown",
   "id": "ec6493d4",
   "metadata": {
    "editable": true
   },
   "source": [
    "<!-- Equation labels as ordinary links -->\n",
    "<div id=\"eq:lapArea\"></div>\n",
    "\n",
    "$$\n",
    "\\begin{equation}\n",
    "A(P) = \\left((P-P_s) \\frac{A_s}{\\lambda} + \\sqrt{A_s} \\right)^2,\n",
    " \\tag{2}\n",
    "\\end{equation}\n",
    "$$"
   ]
  },
  {
   "cell_type": "markdown",
   "id": "d7ea13b5",
   "metadata": {
    "editable": true
   },
   "source": [
    "where $\\lambda$ is referred to as the stiffness coefficient and $A_s$\n",
    "is the area at the reference pressure $P_s$.\n",
    "\n",
    "The stiffness coefficient $\\lambda$ is defined as:"
   ]
  },
  {
   "cell_type": "markdown",
   "id": "c438e1a4",
   "metadata": {
    "editable": true
   },
   "source": [
    "<!-- Equation labels as ordinary links -->\n",
    "<div id=\"_auto1\"></div>\n",
    "\n",
    "$$\n",
    "\\begin{equation}\n",
    "\\lambda = \\frac{2 \\rho c_s^2 A_s}{\\sqrt{A_s}}\n",
    " \\tag{3}\n",
    "\\end{equation}\n",
    "$$"
   ]
  },
  {
   "cell_type": "markdown",
   "id": "03611f04",
   "metadata": {
    "editable": true
   },
   "source": [
    "## *Logarithmic* model\n",
    "The *Logarithmic* area-pressure relationship ([[Hayashi1980]](#Hayashi1980)) is defined as:"
   ]
  },
  {
   "cell_type": "markdown",
   "id": "2a00e3a8",
   "metadata": {
    "editable": true
   },
   "source": [
    "<!-- Equation labels as ordinary links -->\n",
    "<div id=\"eq:expArea\"></div>\n",
    "\n",
    "$$\n",
    "\\begin{equation}\n",
    "A(P) = A_s \\left( 1 + \\frac{1}{\\beta} ln \\left(\\frac{P}{P_s}\\right) \\right)^2,\n",
    " \\tag{4}\n",
    "\\end{equation}\n",
    "$$"
   ]
  },
  {
   "cell_type": "markdown",
   "id": "a947ebdc",
   "metadata": {
    "editable": true
   },
   "source": [
    "where $\\beta$ is called the stiffness coefficient and $A_s$ is the\n",
    "area at the reference pressure $P_s$.\n",
    "\n",
    "The stiffness coefficient $\\beta$ is defined as:"
   ]
  },
  {
   "cell_type": "markdown",
   "id": "a0c29ee8",
   "metadata": {
    "editable": true
   },
   "source": [
    "<!-- Equation labels as ordinary links -->\n",
    "<div id=\"_auto2\"></div>\n",
    "\n",
    "$$\n",
    "\\begin{equation}\n",
    "\\beta = \\frac{2\\ \\rho c_s^2}{P_s}\n",
    " \\tag{5}\n",
    "\\end{equation}\n",
    "$$"
   ]
  },
  {
   "cell_type": "markdown",
   "id": "752647fc",
   "metadata": {
    "editable": true
   },
   "source": [
    "## Exercise 1: Implement these two models in Python\n",
    "\n",
    "Write a function that implements the relationship based on the following"
   ]
  },
  {
   "cell_type": "code",
   "execution_count": 4,
   "id": "b2cfda29",
   "metadata": {
    "collapsed": false,
    "editable": true
   },
   "outputs": [],
   "source": [
    "def quadratic_area_model(pressure, parameters):\n",
    "    # Implement the function here\n",
    "    a_s, c_s, p_s, rho = parameters # Works when the first index of parameters indexes the parameters\n",
    "    area = 0 # You need to implement this\n",
    "    return area"
   ]
  },
  {
   "cell_type": "markdown",
   "id": "e3dbfec3",
   "metadata": {
    "editable": true
   },
   "source": [
    "See the solution if you need help."
   ]
  },
  {
   "cell_type": "markdown",
   "id": "efded07e",
   "metadata": {
    "editable": true
   },
   "source": [
    "## Exercise 2: Follow the 6 (7) steps of UQSA for this model\n",
    "\n",
    "Perhaps you want to have a personalized or localized model of the arterial wall? How can you get values for $A_s$, $P_s$, $c$ and $\\rho$? How much uncertainty do you have about these values? Do you imagine a different use case for this model? What uncertainties might be present in that use case?\n",
    "\n",
    "* Step 1 Identification of the output(s) of interest Y\n",
    "\n",
    "* Step 2 Identify the inputs of interest and the appropriate distribution for the situation you are interested in? Can you support your choice of distribution? (If you prefer to move on just assume some nominal 10\\% uncertainty on the parameters. What does 10\\% uncertainty mean? If you model this with a Normal random variable or Uniform random variable does it have a different meaning?).\n",
    "\n",
    "* Step 3 Sampling of the input space to acquire samples of your inputs in a manner suited to your method for step 5\n",
    "\n",
    "* Step 4 Evaluate the deterministic model at each sample point to obtain your output samples\n",
    "\n",
    "* Step 5 Calculation of UQ and SA measures with your method of choice: Monte Carlo or Polynomial Chaos\n",
    "\n",
    "* Step 6 Assess the convergence of UQ and SA measures\n",
    "\n",
    "* Step 7 interpret the results"
   ]
  },
  {
   "cell_type": "markdown",
   "id": "38531330",
   "metadata": {
    "editable": true
   },
   "source": [
    "## Exercise 3: Evaluate your external model\n",
    "\n",
    "If you have a model that is not written in python or needs to be evaluated offline. You can follow the same procedure with some minor modifications.\n",
    "\n",
    "For Step 3 you will need to write these values out your model of interest. Do you need to generate an input file for each? Can you load a list of parameter values from a csv file? In any case you can generate a data file containing the sample points and then determine how to run your model for each sample in the data points.\n",
    "\n",
    "For Step 4 you will use the output from step 3, and collect the output values in a similar data file.\n",
    "\n",
    "For Step 5 you will load the results file from Step 4 and then proceed as if the values had been generated in Python."
   ]
  },
  {
   "cell_type": "code",
   "execution_count": 5,
   "id": "2283de55",
   "metadata": {
    "collapsed": false,
    "editable": true
   },
   "outputs": [],
   "source": [
    "# example sampling\n",
    "u1 = cp.Uniform(0,1)\n",
    "u2 = cp.Uniform(0,1)\n",
    "joint_distribution = cp.J(u1, u2)\n",
    "number_of_samples = 350\n",
    "samples_random = joint_distribution.sample(size=number_of_samples, rule='R')"
   ]
  },
  {
   "cell_type": "code",
   "execution_count": 6,
   "id": "26f6c392",
   "metadata": {
    "collapsed": false,
    "editable": true
   },
   "outputs": [],
   "source": [
    "# example save samples to file\n",
    "# Creates a csv file where each row corresponds to the sample number and each column with teh variables in the joint distribution\n",
    "csv_file = \"csv_samples.csv\"\n",
    "sep = '\\t'\n",
    "header = [\"u1\", \"u2\"]\n",
    "header = sep.join(header)\n",
    "np.savetxt(csv_file, samples_random, delimiter=sep, header=header)\n",
    "# end example save samples to file\n",
    "\n",
    "# generate external data\n",
    "# load external samples\n",
    "samples_random = np.genfromtxt(csv_file)\n",
    "\n",
    "# evaluate model\n",
    "ext_data = np.array([sample[0] + sample[1] + sample[0]*sample[1] for sample in samples_random.T])\n",
    "header = ['y0']\n",
    "header = sep.join(header)\n",
    "filepath = \"external_evaluations.csv\"\n",
    "np.savetxt(filepath, ext_data, delimiter=sep, header=header)\n",
    "# end generate external data\n",
    "\n",
    "# example load samples from file\n",
    "# loads a csv file where the samples/or model evaluations for each sample are saved\n",
    "# with one sample per row. Multiple components ofoutput can be stored as separate columns \n",
    "filepath = \"external_evaluations.csv\"\n",
    "data = np.genfromtxt(filepath)"
   ]
  },
  {
   "cell_type": "markdown",
   "id": "36a65bf1",
   "metadata": {
    "editable": true
   },
   "source": [
    "1. <div id=\"eck2015stochastic\"></div> **V. G. Eck, J. Feinberg, H. P. Langtangen and L. R. Hellevik**.  Stochastic Sensitivity Analysis for Timing and Amplitude of Pressure waves in the Arterial System, *International Journal for Numerical Methods in Biomedical Engineering*, 31(4), 2015.\n",
    "\n",
    "2. <div id=\"boileau_benchmark_2015\"></div> **E. Boileau, P. Nithiarasu, P. J. Blanco, L. O. Mueller, F. E. Fossan, L. R. Hellevik, W. P. Donders, W. Huberts, M. Willemet and J. Alastruey**.  A benchmark study of numerical schemes for one-dimensional arterial blood flow modelling, *International Journal for Numerical Methods in Biomedical Engineering*, 31(10), pp. n/a-n/a, 2015.\n",
    "\n",
    "3. <div id=\"sherwin2003\"></div> **S. Sherwin, V. Franke, J. Peir\\'o and K. Parker**.  One-Dimensional Modelling of Vascular Network in Space-Time Variables, *Journal of Engineering Mathematics*, 47(3-4), pp. 217-233, 2003.\n",
    "\n",
    "4. <div id=\"Hayashi1980\"></div> **K. Hayashi, H. Handa, S. Nagasawa, A. Okumura and K. Moritake**.  Stiffness and Elastic Behavior of Human Intracranial and Extracranial arteries, *Journal of Biomechanics*, 13(2), pp. 175-184, 1980."
   ]
  }
 ],
 "metadata": {},
 "nbformat": 4,
 "nbformat_minor": 5
}
