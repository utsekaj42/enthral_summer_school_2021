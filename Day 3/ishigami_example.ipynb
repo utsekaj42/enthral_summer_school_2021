{
 "cells": [
  {
   "cell_type": "markdown",
   "id": "40c819e8",
   "metadata": {
    "editable": true
   },
   "source": [
    "<!-- HTML file automatically generated from DocOnce source (https://github.com/doconce/doconce/)\n",
    "doconce format html ishigami_example.do.txt --ipynb_admon=hrule --without_solutions --no_abort -->\n",
    "<!-- dom:TITLE: Polynomial Chaos with the Ishigami Function -->"
   ]
  },
  {
   "cell_type": "markdown",
   "id": "fb2d774f",
   "metadata": {
    "editable": true
   },
   "source": [
    "# Polynomial Chaos with the Ishigami Function\n",
    "**Jacob Sturdy**, Department of Structural Engineering, NTNU\n",
    "\n",
    "Date: **Jun 30, 2021**"
   ]
  },
  {
   "cell_type": "code",
   "execution_count": 1,
   "id": "1e6c34d9",
   "metadata": {
    "collapsed": false,
    "editable": true
   },
   "outputs": [],
   "source": [
    "# ipython magic\n",
    "%matplotlib notebook\n",
    "%load_ext autoreload\n",
    "%autoreload 2"
   ]
  },
  {
   "cell_type": "code",
   "execution_count": 2,
   "id": "7ab5ca1d",
   "metadata": {
    "collapsed": false,
    "editable": true
   },
   "outputs": [],
   "source": [
    "",
    "\n",
    "import matplotlib\n",
    "import matplotlib.pyplot as plt"
   ]
  },
  {
   "cell_type": "code",
   "execution_count": 3,
   "id": "a1cb9770",
   "metadata": {
    "collapsed": true,
    "editable": true
   },
   "outputs": [],
   "source": [
    "import chaospy as cp\n",
    "import numpy as np"
   ]
  },
  {
   "cell_type": "markdown",
   "id": "9a450fb0",
   "metadata": {
    "editable": true
   },
   "source": [
    "# Introduction\n",
    "<div id=\"sec:introduction\"></div>\n",
    "\n",
    "The Ishigami function"
   ]
  },
  {
   "cell_type": "markdown",
   "id": "a983f380",
   "metadata": {
    "editable": true
   },
   "source": [
    "<!-- Equation labels as ordinary links -->\n",
    "<div id=\"_auto1\"></div>\n",
    "\n",
    "$$\n",
    "\\begin{equation}\n",
    "y = \\sin(z_1) + a \\sin^2(z_2) + b z_3^4 \\sin(z_1)\n",
    " \\tag{1}\n",
    "\\end{equation}\n",
    "$$"
   ]
  },
  {
   "cell_type": "markdown",
   "id": "4df48745",
   "metadata": {
    "editable": true
   },
   "source": [
    "is a commonly used benchmark function for sensitivity analysis. You will now get the chance to evaluate polynomial chaos on this function.\n",
    "\n",
    "Each component of $\\mathbf{Z}$ is distributed uniformly over the range $(-\\pi, \\pi)$ and $a=7$ while $b=0.1$.\n",
    "\n",
    "These two functions implement the function in python as well as the exact solutions for its mean, variance and sensitivities."
   ]
  },
  {
   "cell_type": "code",
   "execution_count": 4,
   "id": "38fd9764",
   "metadata": {
    "collapsed": false,
    "editable": true
   },
   "outputs": [],
   "source": [
    "# Begin definitions\n",
    "import numpy as np\n",
    "\n",
    "def ishigami_function(sample):\n",
    "    q1 = sample[0]\n",
    "    q2 = sample[1]\n",
    "    q3 = sample[2]\n",
    "    a = 7.\n",
    "    b = 0.1\n",
    "    return np.sin(q1) + a*np.sin(q2)**2 + b* q3**4 * np.sin(q1)\n",
    "\n",
    "def ishigami_analytic():\n",
    "    measures = {}\n",
    "    a = 7.\n",
    "    measures[\"mean\"] = a/2.0\n",
    "    b = 0.1\n",
    "    D = a**2./8 + b*np.pi**4./5 + b**2*np.pi**8./18 + 1./2\n",
    "    measures \n",
    "    measures[\"var\"] = D\n",
    "    # Conditional variances\n",
    "    D1 = b*np.pi**4./5 + b**2*np.pi**8./50. + 1./2\n",
    "    D2 = a**2/8.\n",
    "    D3 = 0\n",
    "    \n",
    "    D12  = 0\n",
    "    D13  = b**2. * np.pi**8 / 18 - b**2*np.pi**8./50.\n",
    "    D23  = 0\n",
    "    D123 = 0\n",
    "    \n",
    "    # Main and total sensitivity indices\n",
    "    measures[\"sens_m\"] = [D1/D, D2/D, D3/D]\n",
    "   \n",
    "\n",
    "    measures[\"sens_t\"] = [(D1 + D12 + D13 + D123)/D,\n",
    "                          (D2 + D12 + D23 + D123)/D,\n",
    "                          (D3 + D13 + D23 + D123)/D]\n",
    "    return measures"
   ]
  },
  {
   "cell_type": "markdown",
   "id": "dd3707d1",
   "metadata": {
    "editable": true
   },
   "source": [
    "The function `ishigami_analytic` returns a dictionary the values may be accessed as below:"
   ]
  },
  {
   "cell_type": "code",
   "execution_count": 5,
   "id": "36c33b76",
   "metadata": {
    "collapsed": false,
    "editable": true
   },
   "outputs": [],
   "source": [
    "    # Demonstrate use\n",
    "    results = ishigami_analytic()\n",
    "    print(results)\n",
    "    print('mean', results['mean'])\n",
    "    print('var', results['var'])\n",
    "    print('sens_m', results['sens_m'])\n",
    "    print('sens_t', results['sens_t'])"
   ]
  },
  {
   "cell_type": "markdown",
   "id": "4d150ac7",
   "metadata": {
    "editable": true
   },
   "source": [
    "## Exercise\n",
    "\n",
    "* Compare results you get for polynomial chaos and monte carlo to the analytical results.\n",
    "\n",
    "* Compare the results you get for different methods of performing polynomial chaos with this function. \n",
    "\n",
    "* What sampling methods work best?"
   ]
  },
  {
   "cell_type": "code",
   "execution_count": 6,
   "id": "7e692713",
   "metadata": {
    "collapsed": false,
    "editable": true
   },
   "outputs": [],
   "source": [
    "dist = cp.Normal()\n",
    "dist.sample?"
   ]
  },
  {
   "cell_type": "markdown",
   "id": "e3b35399",
   "metadata": {
    "editable": true
   },
   "source": [
    "* Can you generate a convergence plot for these methods?\n",
    "\n",
    "* What happens if you repeat the analysis after changing the value of b from 0.1 to 0.05?"
   ]
  }
 ],
 "metadata": {},
 "nbformat": 4,
 "nbformat_minor": 5
}
