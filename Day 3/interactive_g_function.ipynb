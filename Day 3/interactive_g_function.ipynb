{
 "cells": [
  {
   "cell_type": "markdown",
   "id": "d840f807",
   "metadata": {
    "editable": true
   },
   "source": [
    "<!-- HTML file automatically generated from DocOnce source (https://github.com/doconce/doconce/)\n",
    "doconce format html interactive_g_function.do.txt --ipynb_admon=hrule --without_solutions --no_abort -->"
   ]
  },
  {
   "cell_type": "markdown",
   "id": "1cf33670",
   "metadata": {
    "editable": true
   },
   "source": [
    "# Sensitivity indices for Sobol's G function\n",
    "\n",
    "**Leif Rune Hellevik**\n",
    "\n",
    "Run the first cell to initialise plotting and printing modules for later use (and some system settings)."
   ]
  },
  {
   "cell_type": "code",
   "execution_count": 1,
   "id": "dedbcf4e",
   "metadata": {
    "collapsed": false,
    "editable": true
   },
   "outputs": [],
   "source": [
    "",
    "\n",
    "# ipython magic\n",
    "%matplotlib notebook\n",
    "%load_ext autoreload\n",
    "%autoreload 2\n",
    "import os, sys, inspect\n",
    "import matplotlib\n",
    "import matplotlib.pyplot as plt\n",
    "# Use this if you want to include modules from a subfolder\n",
    "cmd_subfolder = os.path.realpath(os.path.abspath(os.path.join(os.path.split(inspect.getfile( inspect.currentframe() ))[0],\"python_source\")))\n",
    "if cmd_subfolder not in sys.path:\n",
    "     sys.path.insert(0, cmd_subfolder)\n",
    "\n",
    "\n",
    "from present_output import print_vectors_relerror, print_3vectors_relerror"
   ]
  },
  {
   "cell_type": "markdown",
   "id": "ee53767e",
   "metadata": {
    "editable": true
   },
   "source": [
    "## Analytical computation of sensitivity indices for Sobol's G function\n",
    "\n",
    "<div id=\"sec:G_functions\"></div>\n",
    "\n",
    "A function which has proved to be usefull as a test function with analytical solutions for the sensitivity indicies is Sobol's G function which is defined as:"
   ]
  },
  {
   "cell_type": "markdown",
   "id": "82514a09",
   "metadata": {
    "editable": true
   },
   "source": [
    "<!-- Equation labels as ordinary links -->\n",
    "<div id=\"eq:1\"></div>\n",
    "\n",
    "$$\n",
    "\\begin{equation}\n",
    "Y=G(X) =  G(X_1, X_2, \\tag{1}\n",
    "\\end{equation}\n",
    "$$"
   ]
  },
  {
   "cell_type": "markdown",
   "id": "7f90ea06",
   "metadata": {
    "editable": true
   },
   "source": [
    "where"
   ]
  },
  {
   "cell_type": "markdown",
   "id": "f3fe3cbe",
   "metadata": {
    "editable": true
   },
   "source": [
    "<!-- Equation labels as ordinary links -->\n",
    "<div id=\"eq:2\"></div>\n",
    "\n",
    "$$\n",
    "\\begin{equation}\n",
    "g_i =  \\tag{2}\n",
    "\\end{equation}\n",
    "$$"
   ]
  },
  {
   "cell_type": "markdown",
   "id": "4f94cd08",
   "metadata": {
    "editable": true
   },
   "source": [
    "and all the input factors $X_i$ are assumed to be uniformly\n",
    "distributed in the interval $[0,1]$, an the coefficients $a_i$ are\n",
    "assumed to be positive real numbers $(a_i \\leq 0).$  The number of\n",
    "factors *k* can be varied as the reader pleases, but the minimum\n",
    "number to produce a meaningful inference is set at three.\n",
    "\n",
    "As you will be able to explore below, the sensitivity $S_i$ of $G$ in\n",
    "([1](#eq:1)) with respect to a specific input factor $X_i$, will depend\n",
    "on the value of the corresponding coefficient $a_i$; small values of\n",
    "$a_i$ (e.g. $a_i=0$) will yield a high corresponding $S_i$, meaning\n",
    "that $X_i$ is an important/influential variable on the variance or\n",
    "uncertainty of $G$.\n",
    "\n",
    "We have implemented Sobol's  G function in ([1](#eq:1)) and  ([2](#eq:2)) in the code snippet below:"
   ]
  },
  {
   "cell_type": "code",
   "execution_count": 2,
   "id": "f667c787",
   "metadata": {
    "collapsed": false,
    "editable": true
   },
   "outputs": [],
   "source": [
    "# model function\n",
    "import numpy as np\n",
    "\n",
    "def g(Xj,aj):\n",
    "    return (np.abs(4*Xj-2.)+aj)/(1+aj)\n",
    "\n",
    "def G(X,a):\n",
    "    G_vector=np.ones(X.shape[0])\n",
    "\n",
    "    for j, aj in enumerate(a):\n",
    "        np.multiply(G_vector,g(X[:,j],aj),G_vector)\n",
    "    return G_vector"
   ]
  },
  {
   "cell_type": "markdown",
   "id": "ada5c8cf",
   "metadata": {
    "editable": true
   },
   "source": [
    "The sensitivity indices $S_i$ and $S_{Ti}$ for $Y=G(X)$ in\n",
    "eq. ([1](#eq:1)) may be derived as outlined in [[saltelli2010]](#saltelli2010)\n",
    "(or [online](https://www.sciencedirect.com/science/article/pii/S0010465509003087)).\n",
    "\n",
    "The conditional variance $V_i$ may be found to be:"
   ]
  },
  {
   "cell_type": "markdown",
   "id": "8a484c43",
   "metadata": {
    "editable": true
   },
   "source": [
    "<!-- Equation labels as ordinary links -->\n",
    "<div id=\"eq:Vi\"></div>\n",
    "\n",
    "$$\n",
    "\\begin{equation}\n",
    "V_i = V_{X_i}  \\tag{3}\n",
    "\\end{equation}\n",
    "$$"
   ]
  },
  {
   "cell_type": "markdown",
   "id": "bd7755d9",
   "metadata": {
    "editable": true
   },
   "source": [
    "<!-- while the conditional variance $V\\left (E(Y \\; | \\; X_{i_1}, X_{i_1}, X_{i_1}, \\ldots, X_{i_s}) \\right)$ is given by: -->\n",
    "\n",
    "<!-- !bt -->\n",
    "<!-- \\begin{equation} -->\n",
    "<!-- V\\left (E(Y \\; | \\; X_{i_1}, X_{i_1}, X_{i_1}, \\ldots, X_{i_s}) \\right) = \\prod_{j=1}^{s} \\left (1 + V_j \\right) -1 <div id=\"eq:Vscond\"></div> -->\n",
    "<!-- \\end{equation} -->\n",
    "<!-- !et -->\n",
    "\n",
    "while the $V_{T_I}$ and the total variance $V$ are given by:"
   ]
  },
  {
   "cell_type": "markdown",
   "id": "e8e67436",
   "metadata": {
    "editable": true
   },
   "source": [
    "<!-- Equation labels as ordinary links -->\n",
    "<div id=\"eq:4\"></div>\n",
    "\n",
    "$$\n",
    "\\begin{equation}\n",
    "V_{T_i} = V_i \\; \\prod_{j\\neq i} (1+V_j) \\qquad \\text{and} \\qquad V = \\prod_{i=1}^k (1+V_i) -1\n",
    " \\tag{4}\n",
    "\\end{equation}\n",
    "$$"
   ]
  },
  {
   "cell_type": "markdown",
   "id": "d66ad63d",
   "metadata": {
    "editable": true
   },
   "source": [
    "Consequently the first order sensitivity indices $S_i$ of $Y=G(X)$, are given by"
   ]
  },
  {
   "cell_type": "markdown",
   "id": "97aae5dd",
   "metadata": {
    "editable": true
   },
   "source": [
    "<!-- Equation labels as ordinary links -->\n",
    "<div id=\"_auto1\"></div>\n",
    "\n",
    "$$\n",
    "\\begin{equation}\n",
    "S_i=\\frac{V_i}{V}\n",
    " \\tag{5}\n",
    "\\end{equation}\n",
    "$$"
   ]
  },
  {
   "cell_type": "markdown",
   "id": "9e5ba671",
   "metadata": {
    "editable": true
   },
   "source": [
    "<!-- The expressions for the variance obtained when keeping one parameter -->\n",
    "<!-- fixed and varying all the others can be found below alow with the -->\n",
    "<!-- expression for the total variance.  The Sensitivity indices -->\n",
    "<!-- expressions can be easily retrieved from these. -->\n",
    "\n",
    "In the code snippet below alow you to experiment interactively to so\n",
    "how the values of $a_i$ affect the correspoding $S_i$, i.e the\n",
    "sensitivity of $G$ with respect to $X_i$."
   ]
  },
  {
   "cell_type": "code",
   "execution_count": 3,
   "id": "ccf8e99e",
   "metadata": {
    "collapsed": false,
    "editable": true
   },
   "outputs": [],
   "source": [
    "# Analytical computations\n",
    "f, ax = plt.subplots(1,1)\n",
    "f.suptitle('G function variable a coefficients')\n",
    "\n",
    "# import modules\n",
    "import numpy as np\n",
    "\n",
    "def Vi(ai):\n",
    "    return 1/(3*(1+ai)**2)\n",
    "\n",
    "def V(a_prms):\n",
    "    D=1\n",
    "    for a in a_prms:\n",
    "        D*=(1+Vi(a))     \n",
    "    return D-1\n",
    "\n",
    "def S_i(ai,a):\n",
    "    return Vi(ai)/V(a)\n",
    "\n",
    "def S_T(ai,a):\n",
    "    Dtot=V(a)\n",
    "    return (Dtot+1)/(Vi(ai)+1)*Vi(ai)/Dtot\n",
    "\n",
    "def update_Sobol(**kwargs):\n",
    "    ax.clear()\n",
    "    for key, value in kwargs.items(): #find indx and value for a_prms\n",
    "        pre,post = key.split(\"a\")\n",
    "        assert pre==\"\"\n",
    "        a_prms[int(post)] = value\n",
    "    \n",
    "    width=0.4\n",
    "    x_tick_list=np.arange(len(a_prms))+1\n",
    "    ax.set_xticks(x_tick_list+width/2)\n",
    "    x_labels=['x'+str(i) for i in np.arange(len(a_prms))]\n",
    "    ax.set_xticklabels(x_labels)\n",
    "    ax.set_ylim(0,1)\n",
    "    \n",
    "    for i, a in enumerate(a_prms):\n",
    "        Si[i]=S_i(a,a_prms)\n",
    "        ST[i]=S_T(a,a_prms)\n",
    "        \n",
    "    ax.bar(x_tick_list,Si,width,color='blue')\n",
    "    ax.bar(x_tick_list+width,ST,width,color='red')        \n",
    "    ax.legend(['First order indices','Total indices'])\n",
    "      \n",
    "k=4 #number of prms\n",
    "a_lbls=['a'+str(i) for i in np.arange(k)]\n",
    "Si=np.zeros(k)\n",
    "ST=np.zeros(k)\n",
    "a_prms=np.zeros(k)\n",
    "\n",
    "import ipywidgets as widgets    \n",
    "my_sliders=[]\n",
    "for i in range(k):\n",
    "    my_sliders.append(widgets.FloatSlider(min=0, max=15, value=6.52, description=a_lbls[i]))\n",
    "\n",
    "\n",
    "slider_dict = {slider.description:slider for slider in my_sliders}\n",
    "ui_left = widgets.VBox(my_sliders[0::2]) \n",
    "ui_right = widgets.VBox(my_sliders[1::2])\n",
    "ui=widgets.HBox([ui_left,ui_right])\n",
    "\n",
    "out=widgets.interactive_output(update_Sobol, slider_dict) \n",
    "display(ui,out)"
   ]
  },
  {
   "cell_type": "markdown",
   "id": "6652295f",
   "metadata": {
    "editable": true
   },
   "source": [
    "Use the sliders to see how the sensitivities vary with the values of $a_i$, and reflect on the effect. \n",
    "Do you observe the effect stated above, that small values of\n",
    "$a_i$ (e.g. $a_i=0$) will yield high corresponding $S_i$. You may change all the parameters simulatenously or one at the time.\n",
    "\n",
    "You may also change the number of parameters *k* directly in the\n",
    "python-code, however note that this will have an impact on the\n",
    "computing time. In particular, the computing time for the numerical\n",
    "approximations with *chaospy* will be sensitive to *k*.\n",
    "\n",
    "If more than one factor has low $a_i$, high interaction effects will\n",
    "result.\n",
    "\n",
    " * An extreme and possibly worst case scenario for the g function is the setting when all $a_i$’s are zero, as all factors will interact and be of equal importance. Check it out!!!\n",
    "\n",
    " * How will you assess a setting with only some $a_i$’s are zero and all others are large (e.g. $a_i \\geq 9$ )? \n",
    "\n",
    "Note that the G function has a singularity in each of its $k$ dimensions corre-\n",
    "sponding to the points xi = 1."
   ]
  },
  {
   "cell_type": "markdown",
   "id": "c890b1e8",
   "metadata": {
    "editable": true
   },
   "source": [
    "## Approximation of the sensitivity indices for Sobol's G function with spectral expansions\n",
    "\n",
    "In this section we show the spectral expansion module [chaospy](https://github.com/jonathf/chaospy) may be used to compute the Sobol\n",
    "indices for Sobol's G function.  A more in depth treatment of\n",
    "`chaospy` and its usage is provided in the separate notebook [A\n",
    "practical introduction to polynomial chaos with the chaospy package](introduction_gpc.ipynb). Furthermore, you may find our previous \"A\n",
    "Guide to Uncertainty Quantification and Sensitivity Analysis for\n",
    "Cardiovascular Applications\" [[eck2015guide]](#eck2015guide) as a useful\n",
    "introduction to how polynomial chaos expansions may be used for\n",
    "UQ&S. We are therefore focusing on the application of the spectral\n",
    "expansions and how they agree with the analytical solutions for the\n",
    "indices, rather than presenting the spectral expansion theory."
   ]
  },
  {
   "cell_type": "code",
   "execution_count": 4,
   "id": "1ec7adec",
   "metadata": {
    "collapsed": false,
    "editable": true
   },
   "outputs": [],
   "source": [
    "# Si with chaospy for G-function\n",
    "import chaospy as cp\n",
    "import chaospy_wrapper as cpw\n",
    "\n",
    "jpdf = cp.Iid(cp.Uniform(),k)\n",
    "    \n",
    "polynomial_order = 4\n",
    "basis = cpw.generate_basis(polynomial_order, jpdf)\n",
    "\n",
    "#Ns=2*len(basis['poly'])\n",
    "Ns=500\n",
    "print('Number of samples for chaospy: ', Ns) \n",
    "X=jpdf.sample(Ns)\n",
    "G_sample=G(X.transpose(),a_prms)\n",
    "\n",
    "expansion = cpw.fit_regression(basis, X, G_sample)\n",
    "exp_pc = cpw.E(expansion, jpdf)\n",
    "std_pc = cpw.Std(expansion, jpdf)\n",
    "print(\"Statistics polynomial chaos\\n\")\n",
    "print('\\n        E(Y)  |  std(Y) \\n')\n",
    "print('pc  : {:2.5f} | {:2.5f}'.format(float(exp_pc), std_pc))\n",
    "S_pc = cpw.Sens_m(expansion, jpdf) #Si from chaospy\n",
    "S_tpc = cpw.Sens_t(expansion, jpdf) #Total effect sensitivity index from chaospy\n",
    "row_labels= ['S_'+str(idx) for idx in range(k)]\n",
    "col_labels=['Chaospy','Analytical','Error (%)']\n",
    "\n",
    "\n",
    "print(\"\\nFirst Order Indices\")\n",
    "\n",
    "print_vectors_relerror(S_pc,Si,col_labels,row_labels,[3,3,0])\n",
    "\n",
    "print(\"\\n\\nTotal Effect Indices\")\n",
    "row_labels= ['St_'+str(idx) for idx in range(k)]\n",
    "print_vectors_relerror(S_tpc,ST,col_labels,row_labels,[3,3,0])"
   ]
  },
  {
   "cell_type": "markdown",
   "id": "aa235450",
   "metadata": {
    "editable": true
   },
   "source": [
    "In the code-snippet above we compare both the first order indices `S_pc` and the total indices `S_tpc` computed with chaospy, and print them in columns along side the analytical indices and the relaltive errors. You may experiment how the error is affected by the number of samples `Ns`."
   ]
  },
  {
   "cell_type": "markdown",
   "id": "de4f809b",
   "metadata": {
    "editable": true
   },
   "source": [
    "### Spectral expansions for computation of  Sobol's sensitivity indices\n",
    "\n",
    "To better facilitate and encourage your experimentation with the impact of changes in the coefficients $a_i$, number of samples, and polynomial order for the spectral expansions in the chaospy module, we make use of interactive widgets with sliders for all these coefficients and variables.\n",
    "\n",
    "Run the code snippet below, and you will see sliders for $a_i$, number\n",
    "of samples `NS` and polynomial order. Once you change one the slider\n",
    "values, the chaospy approximations of the sensitivity indices will be\n",
    "recomputed and the new results will be presented. Bear in mind that\n",
    "the computational time is dependent on the number of samples and the\n",
    "cpu capacity of the machine you are running this notebook on."
   ]
  },
  {
   "cell_type": "code",
   "execution_count": 5,
   "id": "82a492ea",
   "metadata": {
    "collapsed": false,
    "editable": true
   },
   "outputs": [],
   "source": [
    "# chaospy G-function with sliders\n",
    "import chaospy as cp\n",
    "import chaospy_wrapper as cpw\n",
    "\n",
    "if not 'jpdf' in globals():\n",
    "    jpdf = cp.Iid(cp.Uniform(),k) #the joint pdf\n",
    "    print('Create the joint pdf')\n",
    "\n",
    "\n",
    "def update_chaospy_G(**kwargs):\n",
    "    NS=kwargs['NS']\n",
    "    del kwargs['NS']\n",
    "    polynomial_order=kwargs['polynomial_order']\n",
    "    del kwargs['polynomial_order']\n",
    "    \n",
    "    for key, value in kwargs.items(): #find indx and value for a_prms\n",
    "        pre,post = key.split(\"a\")\n",
    "        assert pre==\"\"\n",
    "        a_prms[int(post)] = value\n",
    "    \n",
    "    X=jpdf.sample(NS)\n",
    "    print('Number of samples: ',NS)\n",
    "\n",
    "    G_sample=G(X.transpose(),a_prms)\n",
    "\n",
    "    basis = cpw.generate_basis(polynomial_order, jpdf)\n",
    "    expansion = cpw.fit_regression(basis, X, G_sample)\n",
    "\n",
    "    exp_pc = cpw.E(expansion, jpdf)\n",
    "    std_pc = cpw.Std(expansion, jpdf)\n",
    "    print(\"Statistics polynomial chaos\\n\")\n",
    "    print('\\n        E(Y)  |  std(Y) \\n')\n",
    "    print('pc  : {:2.5f} | {:2.5f}'.format(float(exp_pc), std_pc))\n",
    "    S_pc = cpw.Sens_m(expansion, jpdf) #Si from chaospy\n",
    "    S_tpc = cpw.Sens_t(expansion, jpdf) #Total effect sensitivity index from chaospy\n",
    "\n",
    "    row_labels= ['S_'+str(idx) for idx in range(len(a_prms))]\n",
    "    col_labels=['Chaospy','Analytical','Error (%)']\n",
    "\n",
    "    print(\"\\nFirst Order Indices\")\n",
    "    print_vectors_relerror(S_pc,Si,col_labels,row_labels,[3,3,0])\n",
    "\n",
    "    print(\"\\n\\nTotal Effect Indices\")\n",
    "    row_labels= ['St_'+str(idx) for idx in range(k)]\n",
    "    print_vectors_relerror(S_tpc,ST,col_labels,row_labels,[3,3,0])\n",
    "\n",
    "\n",
    "if (len(my_sliders)==len(a_prms)):   #add sliders if not added before\n",
    "    my_sliders.append(widgets.IntSlider(min=500,max=5000,step=200,value=500,description='NS')) #add slider for samples\n",
    "    my_sliders.append(widgets.IntSlider(description='polynomial_order', min=1,max=6,value=4)) # add slider for polynomial order\n",
    "\n",
    "    slider_dict = {slider.description:slider for slider in my_sliders} #add the sliders in the dictionary \n",
    "\n",
    "    ui_left = widgets.VBox(my_sliders[0::2]) \n",
    "    ui_right = widgets.VBox(my_sliders[1::2])\n",
    "    ui=widgets.HBox([ui_left,ui_right])\n",
    "\n",
    "\n",
    "out=widgets.interactive_output(update_chaospy_G, slider_dict) \n",
    "display(ui,out)\n",
    "\n",
    "# end chaospy G-function with sliders"
   ]
  },
  {
   "cell_type": "markdown",
   "id": "e0b98f8b",
   "metadata": {
    "editable": true
   },
   "source": [
    "### Monte Carlo simulations for computation of sensitivity indices\n",
    "\n",
    "Some text to separate the code"
   ]
  },
  {
   "cell_type": "code",
   "execution_count": 6,
   "id": "542953a4",
   "metadata": {
    "collapsed": false,
    "editable": true
   },
   "outputs": [],
   "source": [
    "# Si with monte carlo for G-function\n",
    "\n",
    "import monte_carlo as mc\n",
    "a_prms=np.ones(k)\n",
    "\n",
    "if not 'jpdf' in globals():\n",
    "    cp.seed(0)\n",
    "    jpdf = cp.Iid(cp.Uniform(),k) #the joint pdf\n",
    "    print('Create the joint pdf')\n",
    "\n",
    "def update_mc_G(**kwargs):\n",
    "    Ns=kwargs['NS']\n",
    "    del kwargs['NS']\n",
    "    \n",
    "    for key, value in kwargs.items(): #find indx and value for a_prms\n",
    "        pre,post = key.split(\"a\")\n",
    "        assert pre==\"\"\n",
    "        a_prms[int(post)] = value\n",
    "        \n",
    "\n",
    "\n",
    "    print('Number of samples for Monte Carlo: ', Ns) \n",
    "    X=jpdf.sample(Ns)\n",
    "    A, B, C = mc.generate_sample_matrices_mc(Ns, k, jpdf, sample_method='R') #A, B, C already transposed\n",
    "    G_A_sample = G(A, a_prms)\n",
    "    G_B_sample = G(B, a_prms)\n",
    "    G_C_sample_list = np.array([G(C_i, a_prms) for C_i in C])\n",
    "    \n",
    "    exp_mc = np.mean(G_A_sample)\n",
    "    std_mc = np.std(G_A_sample)\n",
    "    print(\"Statistics Monte Carlo\\n\")\n",
    "    print('\\n        E(Y)  |  std(Y) \\n')\n",
    "    print('mc  : {:2.5f} | {:2.5f}'.format(float(exp_mc), std_mc))\n",
    "    \n",
    "    S_mc, S_tmc = mc.calculate_sensitivity_indices_mc(G_A_sample, G_B_sample, G_C_sample_list)\n",
    "    row_labels= ['S_'+str(idx) for idx in range(k)]\n",
    "    col_labels=['Monte carlo','Analytical','Error (%)']\n",
    "    \n",
    "    print(\"\\nFirst Order Indices\")\n",
    "    import analytical_g_function as agf\n",
    "    \n",
    "    Si=np.zeros(k)\n",
    "    ST=np.zeros(k)\n",
    "    for i, a in enumerate(a_prms):\n",
    "        Si[i]=agf.S_i(a,a_prms)\n",
    "        ST[i]=agf.S_T(a,a_prms)\n",
    "     \n",
    "    print_vectors_relerror(S_mc, Si, col_labels, row_labels, [3,3,0])\n",
    "    \n",
    "    print(\"\\n\\nTotal Effect Indices\")\n",
    "    row_labels= ['St_'+str(idx) for idx in range(k)]\n",
    "    print_vectors_relerror(S_tmc, ST, col_labels, row_labels, [3,3,0])\n",
    "\n",
    "## Set up the sliders \n",
    "mc_sliders=[]\n",
    "for i in range(k):\n",
    "    mc_sliders.append(widgets.FloatSlider(min=0, max=15, value=6.52, description=a_lbls[i]))\n",
    "\n",
    "mc_sliders.append(widgets.IntSlider(min=500,max=25000,step=200,value=500,description='NS')) #add slider for samples\n",
    "    \n",
    "slider_dict = {slider.description:slider for slider in mc_sliders} #add the sliders in the dictionary \n",
    "\n",
    "ui_left = widgets.VBox(mc_sliders[0::2]) \n",
    "ui_right = widgets.VBox(mc_sliders[1::2])\n",
    "ui=widgets.HBox([ui_left,ui_right])\n",
    "\n",
    "out=widgets.interactive_output(update_mc_G, slider_dict) \n",
    "display(ui,out)"
   ]
  },
  {
   "cell_type": "markdown",
   "id": "58ed93c6",
   "metadata": {
    "editable": true
   },
   "source": [
    "### Comparison of MC and PC for sensitivity indices computations"
   ]
  },
  {
   "cell_type": "code",
   "execution_count": 7,
   "id": "83af8111",
   "metadata": {
    "collapsed": false,
    "editable": true
   },
   "outputs": [],
   "source": [
    "# mc and pc comparison for G-function with sliders\n",
    "import chaospy as cp\n",
    "import chaospy_wrapper as cpw\n",
    "import monte_carlo as mc\n",
    "import analytical_g_function as agf\n",
    "\n",
    "if not 'jpdf' in globals():\n",
    "    jpdf = cp.Iid(cp.Uniform(),k) #the joint pdf\n",
    "    print('Create the joint pdf')\n",
    "\n",
    "\n",
    "def update_G(**kwargs):\n",
    "    NsPC=kwargs['NsPC']\n",
    "    del kwargs['NsPC']\n",
    "    NsMC=kwargs['NsMC']\n",
    "    del kwargs['NsMC']\n",
    "    \n",
    "    polynomial_order=kwargs['polynomial_order']\n",
    "    del kwargs['polynomial_order']\n",
    "\n",
    "    for key, value in kwargs.items():  # find indx and value for a_prms\n",
    "        pre, post = key.split(\"a\")\n",
    "        assert pre == \"\"\n",
    "        a_prms[int(post)] = value\n",
    "\n",
    "    ## Update the analytical indices\n",
    "    Si = np.zeros(k)\n",
    "    ST = np.zeros(k)\n",
    "    for i, a in enumerate(a_prms):\n",
    "        Si[i] = agf.S_i(a, a_prms)\n",
    "        ST[i] = agf.S_T(a, a_prms)\n",
    "\n",
    "    ## Monte Carlo update\n",
    "    print('Number of samples for Monte Carlo: ', NsMC)\n",
    "    A, B, C = mc.generate_sample_matrices_mc(NsMC, k, jpdf, sample_method='R') #A, B, C already transposed\n",
    "    G_A_sample = G(A, a_prms)\n",
    "    G_B_sample = G(B, a_prms)\n",
    "    G_C_sample_list = np.array([G(C_i, a_prms) for C_i in C])\n",
    "    \n",
    "    exp_mc = np.mean(G_A_sample)\n",
    "    std_mc = np.std(G_A_sample)\n",
    "    print(\"Statistics Monte Carlo\\n\")\n",
    "    print('\\n        E(Y)  |  std(Y) \\n')\n",
    "    print('mc  : {:2.5f} | {:2.5f}'.format(float(exp_mc), std_mc))\n",
    "    \n",
    "    S_mc, S_tmc = mc.calculate_sensitivity_indices_mc(G_A_sample, G_B_sample, G_C_sample_list)\n",
    "\n",
    "\n",
    "    ## update PC estimates\n",
    "    Xpc=jpdf.sample(NsPC)\n",
    "    print('Number of samples: ',NsPC)\n",
    "\n",
    "    G_sample=G(Xpc.transpose(), a_prms)\n",
    "    basis = cpw.generate_basis(polynomial_order, jpdf)\n",
    "    expansion = cpw.fit_regression(basis, Xpc, G_sample)\n",
    "\n",
    "    exp_pc = cpw.E(expansion, jpdf)\n",
    "    std_pc = cpw.Std(expansion, jpdf)\n",
    "    print(\"Statistics polynomial chaos\\n\")\n",
    "    print('\\n        E(Y)  |  std(Y) \\n')\n",
    "    print('pc  : {:2.5f} | {:2.5f}'.format(float(exp_pc), std_pc))\n",
    "    S_pc = cpw.Sens_m(expansion, jpdf) #Si from chaospy\n",
    "    S_tpc = cpw.Sens_t(expansion, jpdf) #Total effect sensitivity index from chaospy\n",
    "\n",
    "    row_labels= ['S_'+str(idx) for idx in range(len(a_prms))]\n",
    "    col_labels=['Monte Carlo','Err (%)','PolyChaos','Err (%)']\n",
    "\n",
    "\n",
    "    print(\"\\nFirst Order Indices\")\n",
    "    print_3vectors_relerror(S_mc,S_pc, Si, col_labels, row_labels, [3,0,3,0])\n",
    "\n",
    "    print(\"\\n\\nTotal Effect Indices\")\n",
    "    row_labels= ['St_'+str(idx) for idx in range(k)]\n",
    "    print_3vectors_relerror(S_tmc,S_tpc, ST, col_labels, row_labels, [3,0,3,0])\n",
    "\n",
    "\n",
    "\n",
    "## Set up the sliders \n",
    "cmp_sliders=[]\n",
    "for i in range(k):\n",
    "    cmp_sliders.append(widgets.FloatSlider(min=0, max=15, value=6.52, description=a_lbls[i]))\n",
    "\n",
    "cmp_sliders.append(widgets.IntSlider(min=500,max=5000,step=200,value=500,description='NsPC')) #add slider for samples\n",
    "cmp_sliders.append(widgets.IntSlider(min=500,max=50000,step=200,value=500,description='NsMC')) #add slider for samples\n",
    "cmp_sliders.append(widgets.IntSlider(description='polynomial_order', min=1,max=6,value=4)) # add slider for polynomial order\n",
    "\n",
    "slider_dict = {slider.description:slider for slider in cmp_sliders} #add the sliders in the dictionary \n",
    "\n",
    "ui_left = widgets.VBox(cmp_sliders[0::2])\n",
    "ui_right = widgets.VBox(cmp_sliders[1::2])\n",
    "ui=widgets.HBox([ui_left,ui_right])\n",
    "\n",
    "out=widgets.interactive_output(update_G, slider_dict)\n",
    "display(ui,out)"
   ]
  },
  {
   "cell_type": "markdown",
   "id": "04aef6b5",
   "metadata": {
    "editable": true
   },
   "source": [
    "# References\n",
    "\n",
    "1. <div id=\"saltelli2010\"></div> **A. Saltelli, P. Annoni, I. Azzini, F. Campolongo, M. Ratto and S. Tarantola**.  Variance Based Sensitivity Analysis of Model Output. Design and Estimator for the Total Sensitivity Index, *Computer Physics Communications*, 181(2), pp. 259-270, 2010.\n",
    "\n",
    "2. <div id=\"eck2015guide\"></div> **V. G. Eck, W. P. Donders, J. Sturdy, J. Feinberg, T. Delhaas, L. T. Hellevik and W. Huberts**.  A Guide to Uncertainty Quantification and Sensitivity Analysis for Cardiovascular Applications, *International Journal for Numerical Methods in Biomedical Engineering*, 2015."
   ]
  }
 ],
 "metadata": {},
 "nbformat": 4,
 "nbformat_minor": 5
}
