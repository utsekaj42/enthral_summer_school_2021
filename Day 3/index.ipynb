{
 "cells": [
  {
   "cell_type": "markdown",
   "id": "07992c90",
   "metadata": {
    "editable": true
   },
   "source": [
    "<!-- HTML file automatically generated from DocOnce source (https://github.com/doconce/doconce/)\n",
    "doconce format html index.do.txt --ipynb_admon=hrule --without_solutions --no_abort -->"
   ]
  },
  {
   "cell_type": "markdown",
   "id": "34fe8da0",
   "metadata": {
    "editable": true
   },
   "source": [
    "# Notebook overview\n",
    "\n",
    "In this git we have collected a number of notebooks aiming at\n",
    "introducing you to the application of uncertainty quantification and\n",
    "sensitivity analysis (UQSA).\n",
    "\n",
    "Below you find a hyperlinked overview which will take you to the various subtopics we have found to be useful in UQSA. \n",
    "\n",
    "  * [Preliminaries](preliminaries.ipynb) tries to present the statistical relations and laws needed to derive the Sobol indices\n",
    "\n",
    "  * [Local versus global sensitivity analysis](local_vs_global.ipynb)\n",
    "\n",
    "  * [Introduction to sensitivity analysis](sensitivity_introduction.ipynb)\n",
    "\n",
    "  * [Higher order sensitivity indices](sensitivity_higher_order.ipynb)\n",
    "\n",
    "  * [Sensitivity indices for Sobol's G function](interactive_g_function.ipynb)\n",
    "\n",
    "  * [Monte Carlo methods for UQSA](monte_carlo.ipynb)\n",
    "\n",
    "  * [Polynomial chaos expansion methods for UQSA](introduction_gpc.ipynb)\n",
    "\n",
    "  * [Exercises](exercises.ipynb)\n",
    "\n",
    "    * [UQSA of Arterial Wall models](wall_models.ipynb)\n",
    "\n",
    "    * [UQSA of the Ishigami function](ishigami_example.ipynb)"
   ]
  }
 ],
 "metadata": {},
 "nbformat": 4,
 "nbformat_minor": 5
}
